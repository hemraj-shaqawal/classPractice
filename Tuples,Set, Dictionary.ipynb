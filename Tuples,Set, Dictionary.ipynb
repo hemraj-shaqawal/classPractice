{
 "cells": [
  {
   "cell_type": "code",
   "execution_count": 1,
   "id": "dd262c7d",
   "metadata": {},
   "outputs": [],
   "source": [
    " t = (1.3,44,4,5,5,6,6)"
   ]
  },
  {
   "cell_type": "code",
   "execution_count": 2,
   "id": "9dcc23c8",
   "metadata": {},
   "outputs": [
    {
     "data": {
      "text/plain": [
       "tuple"
      ]
     },
     "execution_count": 2,
     "metadata": {},
     "output_type": "execute_result"
    }
   ],
   "source": [
    "type(t)"
   ]
  },
  {
   "cell_type": "code",
   "execution_count": 5,
   "id": "ecc04882",
   "metadata": {},
   "outputs": [],
   "source": [
    "t = (\"hemu\",5+5j,52.3,True)"
   ]
  },
  {
   "cell_type": "code",
   "execution_count": 6,
   "id": "75dd2bd8",
   "metadata": {},
   "outputs": [
    {
     "data": {
      "text/plain": [
       "('hemu', (5+5j), 52.3, True)"
      ]
     },
     "execution_count": 6,
     "metadata": {},
     "output_type": "execute_result"
    }
   ],
   "source": [
    "t"
   ]
  },
  {
   "cell_type": "code",
   "execution_count": 7,
   "id": "9f8bf320",
   "metadata": {},
   "outputs": [],
   "source": [
    "l = [\"hemraj\",\"jack\",34234,4.5]"
   ]
  },
  {
   "cell_type": "code",
   "execution_count": 8,
   "id": "cf345822",
   "metadata": {},
   "outputs": [
    {
     "data": {
      "text/plain": [
       "['hemraj', 'jack', 34234, 4.5]"
      ]
     },
     "execution_count": 8,
     "metadata": {},
     "output_type": "execute_result"
    }
   ],
   "source": [
    "l"
   ]
  },
  {
   "cell_type": "code",
   "execution_count": 9,
   "id": "ed67f226",
   "metadata": {},
   "outputs": [
    {
     "data": {
      "text/plain": [
       "['hemraj', 'jack']"
      ]
     },
     "execution_count": 9,
     "metadata": {},
     "output_type": "execute_result"
    }
   ],
   "source": [
    "l[0:2]"
   ]
  },
  {
   "cell_type": "code",
   "execution_count": 15,
   "id": "0e411adf",
   "metadata": {},
   "outputs": [
    {
     "data": {
      "text/plain": [
       "(True, 52.3, (5+5j), 'hemu')"
      ]
     },
     "execution_count": 15,
     "metadata": {},
     "output_type": "execute_result"
    }
   ],
   "source": [
    "##reverse tuple\n",
    "t[::-1]"
   ]
  },
  {
   "cell_type": "code",
   "execution_count": 12,
   "id": "165e37b9",
   "metadata": {},
   "outputs": [
    {
     "data": {
      "text/plain": [
       "True"
      ]
     },
     "execution_count": 12,
     "metadata": {},
     "output_type": "execute_result"
    }
   ],
   "source": [
    "t[-1]"
   ]
  },
  {
   "cell_type": "code",
   "execution_count": 16,
   "id": "20be7b4d",
   "metadata": {},
   "outputs": [
    {
     "data": {
      "text/plain": [
       "('hemu', 52.3)"
      ]
     },
     "execution_count": 16,
     "metadata": {},
     "output_type": "execute_result"
    }
   ],
   "source": [
    "t[0::2]"
   ]
  },
  {
   "cell_type": "code",
   "execution_count": 17,
   "id": "84df440e",
   "metadata": {},
   "outputs": [
    {
     "data": {
      "text/plain": [
       "['hemraj', 'jack', 34234, 4.5]"
      ]
     },
     "execution_count": 17,
     "metadata": {},
     "output_type": "execute_result"
    }
   ],
   "source": [
    "l"
   ]
  },
  {
   "cell_type": "code",
   "execution_count": 18,
   "id": "09ab94f9",
   "metadata": {},
   "outputs": [],
   "source": [
    "l1 = [5,5,6,8,8,6]"
   ]
  },
  {
   "cell_type": "code",
   "execution_count": 20,
   "id": "95d4b631",
   "metadata": {},
   "outputs": [],
   "source": [
    "l1[0] = 45"
   ]
  },
  {
   "cell_type": "code",
   "execution_count": 21,
   "id": "17516530",
   "metadata": {},
   "outputs": [
    {
     "data": {
      "text/plain": [
       "[45, 5, 6, 8, 8, 6]"
      ]
     },
     "execution_count": 21,
     "metadata": {},
     "output_type": "execute_result"
    }
   ],
   "source": [
    "l1"
   ]
  },
  {
   "cell_type": "code",
   "execution_count": 24,
   "id": "f3e536e4",
   "metadata": {},
   "outputs": [
    {
     "ename": "TypeError",
     "evalue": "'tuple' object does not support item assignment",
     "output_type": "error",
     "traceback": [
      "\u001b[1;31m---------------------------------------------------------------------------\u001b[0m",
      "\u001b[1;31mTypeError\u001b[0m                                 Traceback (most recent call last)",
      "\u001b[1;32mC:\\Users\\HEMRAJ~1\\AppData\\Local\\Temp/ipykernel_33348/3603324886.py\u001b[0m in \u001b[0;36m<module>\u001b[1;34m\u001b[0m\n\u001b[1;32m----> 1\u001b[1;33m \u001b[0mt\u001b[0m\u001b[1;33m[\u001b[0m\u001b[1;36m0\u001b[0m\u001b[1;33m]\u001b[0m \u001b[1;33m=\u001b[0m \u001b[1;34m\"jack\"\u001b[0m\u001b[1;33m\u001b[0m\u001b[1;33m\u001b[0m\u001b[0m\n\u001b[0m",
      "\u001b[1;31mTypeError\u001b[0m: 'tuple' object does not support item assignment"
     ]
    }
   ],
   "source": [
    "t[0] = \"jack\""
   ]
  },
  {
   "cell_type": "code",
   "execution_count": 26,
   "id": "44f6670e",
   "metadata": {},
   "outputs": [],
   "source": [
    "t1 = (1231,345,356,45664,4,4)"
   ]
  },
  {
   "cell_type": "code",
   "execution_count": 27,
   "id": "d3d38bd2",
   "metadata": {},
   "outputs": [
    {
     "data": {
      "text/plain": [
       "('hemu', (5+5j), 52.3, True, 1231, 345, 356, 45664, 4, 4)"
      ]
     },
     "execution_count": 27,
     "metadata": {},
     "output_type": "execute_result"
    }
   ],
   "source": [
    "t + t1"
   ]
  },
  {
   "cell_type": "code",
   "execution_count": 28,
   "id": "63038c8b",
   "metadata": {},
   "outputs": [
    {
     "data": {
      "text/plain": [
       "('hemu', (5+5j), 52.3, True, 'hemu', (5+5j), 52.3, True)"
      ]
     },
     "execution_count": 28,
     "metadata": {},
     "output_type": "execute_result"
    }
   ],
   "source": [
    "t*2"
   ]
  },
  {
   "cell_type": "code",
   "execution_count": 33,
   "id": "26ea6c02",
   "metadata": {},
   "outputs": [
    {
     "name": "stdout",
     "output_type": "stream",
     "text": [
      "1\n"
     ]
    }
   ],
   "source": [
    "print(t.count(\"hemu\"))"
   ]
  },
  {
   "cell_type": "code",
   "execution_count": 35,
   "id": "4bf88db1",
   "metadata": {},
   "outputs": [
    {
     "name": "stdout",
     "output_type": "stream",
     "text": [
      "2\n"
     ]
    }
   ],
   "source": [
    "print(t.index(52.3))"
   ]
  },
  {
   "cell_type": "code",
   "execution_count": 37,
   "id": "4bfe6024",
   "metadata": {},
   "outputs": [],
   "source": [
    "t = (\"qe\",23,23,(3,3))"
   ]
  },
  {
   "cell_type": "code",
   "execution_count": 38,
   "id": "87052851",
   "metadata": {},
   "outputs": [
    {
     "data": {
      "text/plain": [
       "('qe', 23, 23, (3, 3))"
      ]
     },
     "execution_count": 38,
     "metadata": {},
     "output_type": "execute_result"
    }
   ],
   "source": [
    "t"
   ]
  },
  {
   "cell_type": "code",
   "execution_count": 47,
   "id": "0c6fec30",
   "metadata": {},
   "outputs": [],
   "source": [
    "t = ([2,2,2,4],\"Q3e\",\"hesda\",(3,6,6,7))"
   ]
  },
  {
   "cell_type": "code",
   "execution_count": 48,
   "id": "6be4436e",
   "metadata": {},
   "outputs": [
    {
     "data": {
      "text/plain": [
       "([2, 2, 2, 4], 'Q3e', 'hesda', (3, 6, 6, 7))"
      ]
     },
     "execution_count": 48,
     "metadata": {},
     "output_type": "execute_result"
    }
   ],
   "source": [
    "t"
   ]
  },
  {
   "cell_type": "code",
   "execution_count": 49,
   "id": "c6efc97f",
   "metadata": {},
   "outputs": [],
   "source": [
    "t[0][2] = 5"
   ]
  },
  {
   "cell_type": "code",
   "execution_count": 50,
   "id": "da722060",
   "metadata": {},
   "outputs": [
    {
     "data": {
      "text/plain": [
       "([2, 2, 5, 4], 'Q3e', 'hesda', (3, 6, 6, 7))"
      ]
     },
     "execution_count": 50,
     "metadata": {},
     "output_type": "execute_result"
    }
   ],
   "source": [
    "t"
   ]
  },
  {
   "cell_type": "code",
   "execution_count": 51,
   "id": "0e95ce30",
   "metadata": {},
   "outputs": [],
   "source": [
    "l2 = list(t)"
   ]
  },
  {
   "cell_type": "code",
   "execution_count": 52,
   "id": "7bbf71b7",
   "metadata": {},
   "outputs": [
    {
     "data": {
      "text/plain": [
       "[[2, 2, 5, 4], 'Q3e', 'hesda', (3, 6, 6, 7)]"
      ]
     },
     "execution_count": 52,
     "metadata": {},
     "output_type": "execute_result"
    }
   ],
   "source": [
    "l2"
   ]
  },
  {
   "cell_type": "code",
   "execution_count": null,
   "id": "670c7ed3",
   "metadata": {},
   "outputs": [],
   "source": []
  },
  {
   "cell_type": "code",
   "execution_count": null,
   "id": "3e22c8ba",
   "metadata": {},
   "outputs": [],
   "source": []
  },
  {
   "cell_type": "markdown",
   "id": "81ef3f8b",
   "metadata": {},
   "source": [
    "##Set"
   ]
  },
  {
   "cell_type": "markdown",
   "id": "0fb11981",
   "metadata": {},
   "source": [
    "Set"
   ]
  },
  {
   "cell_type": "code",
   "execution_count": 53,
   "id": "3a1cdba3",
   "metadata": {},
   "outputs": [],
   "source": [
    "l = [2,4,4,35,35,35,46,75,76,8678,5,6,6,6,7,8,5,9,8]"
   ]
  },
  {
   "cell_type": "code",
   "execution_count": 54,
   "id": "614cf0dc",
   "metadata": {},
   "outputs": [],
   "source": [
    "s = set(l)"
   ]
  },
  {
   "cell_type": "code",
   "execution_count": 55,
   "id": "2bc2049c",
   "metadata": {},
   "outputs": [
    {
     "data": {
      "text/plain": [
       "{2, 4, 5, 6, 7, 8, 9, 35, 46, 75, 76, 8678}"
      ]
     },
     "execution_count": 55,
     "metadata": {},
     "output_type": "execute_result"
    }
   ],
   "source": [
    "s"
   ]
  },
  {
   "cell_type": "code",
   "execution_count": 56,
   "id": "c71dffac",
   "metadata": {},
   "outputs": [],
   "source": [
    "s = {}"
   ]
  },
  {
   "cell_type": "code",
   "execution_count": 57,
   "id": "be36d387",
   "metadata": {},
   "outputs": [
    {
     "data": {
      "text/plain": [
       "dict"
      ]
     },
     "execution_count": 57,
     "metadata": {},
     "output_type": "execute_result"
    }
   ],
   "source": [
    "type(s)"
   ]
  },
  {
   "cell_type": "code",
   "execution_count": 59,
   "id": "a99ba680",
   "metadata": {},
   "outputs": [],
   "source": [
    "s1 = {2,3,4,4}"
   ]
  },
  {
   "cell_type": "code",
   "execution_count": 60,
   "id": "b2f8c5a2",
   "metadata": {},
   "outputs": [
    {
     "data": {
      "text/plain": [
       "{2, 3, 4}"
      ]
     },
     "execution_count": 60,
     "metadata": {},
     "output_type": "execute_result"
    }
   ],
   "source": [
    "s1"
   ]
  },
  {
   "cell_type": "code",
   "execution_count": 61,
   "id": "2a16eaf2",
   "metadata": {},
   "outputs": [
    {
     "data": {
      "text/plain": [
       "set"
      ]
     },
     "execution_count": 61,
     "metadata": {},
     "output_type": "execute_result"
    }
   ],
   "source": [
    "type(s1)"
   ]
  },
  {
   "cell_type": "code",
   "execution_count": 62,
   "id": "90ab242b",
   "metadata": {},
   "outputs": [],
   "source": [
    "s2 = {1,1,1,1,1,1,1,4,4,4,4,6,777,778,8}"
   ]
  },
  {
   "cell_type": "code",
   "execution_count": 63,
   "id": "77162c59",
   "metadata": {},
   "outputs": [
    {
     "data": {
      "text/plain": [
       "{1, 4, 6, 8, 777, 778}"
      ]
     },
     "execution_count": 63,
     "metadata": {},
     "output_type": "execute_result"
    }
   ],
   "source": [
    "s2"
   ]
  },
  {
   "cell_type": "code",
   "execution_count": 64,
   "id": "d0121b52",
   "metadata": {},
   "outputs": [
    {
     "ename": "TypeError",
     "evalue": "'set' object is not subscriptable",
     "output_type": "error",
     "traceback": [
      "\u001b[1;31m---------------------------------------------------------------------------\u001b[0m",
      "\u001b[1;31mTypeError\u001b[0m                                 Traceback (most recent call last)",
      "\u001b[1;32mC:\\Users\\HEMRAJ~1\\AppData\\Local\\Temp/ipykernel_33348/3318850340.py\u001b[0m in \u001b[0;36m<module>\u001b[1;34m\u001b[0m\n\u001b[1;32m----> 1\u001b[1;33m \u001b[0ms2\u001b[0m\u001b[1;33m[\u001b[0m\u001b[1;36m2\u001b[0m\u001b[1;33m]\u001b[0m\u001b[1;33m\u001b[0m\u001b[1;33m\u001b[0m\u001b[0m\n\u001b[0m",
      "\u001b[1;31mTypeError\u001b[0m: 'set' object is not subscriptable"
     ]
    }
   ],
   "source": [
    "s2[2]"
   ]
  },
  {
   "cell_type": "code",
   "execution_count": 67,
   "id": "7b4fb630",
   "metadata": {},
   "outputs": [
    {
     "data": {
      "text/plain": [
       "[1, 4, 6, 8, 777, 778]"
      ]
     },
     "execution_count": 67,
     "metadata": {},
     "output_type": "execute_result"
    }
   ],
   "source": [
    "list(s2)"
   ]
  },
  {
   "cell_type": "code",
   "execution_count": 68,
   "id": "721b5634",
   "metadata": {},
   "outputs": [],
   "source": [
    "s2.add(78)"
   ]
  },
  {
   "cell_type": "code",
   "execution_count": 69,
   "id": "284e23b6",
   "metadata": {},
   "outputs": [
    {
     "data": {
      "text/plain": [
       "{1, 4, 6, 8, 78, 777, 778}"
      ]
     },
     "execution_count": 69,
     "metadata": {},
     "output_type": "execute_result"
    }
   ],
   "source": [
    "s2"
   ]
  },
  {
   "cell_type": "code",
   "execution_count": 70,
   "id": "7baaaf0f",
   "metadata": {},
   "outputs": [],
   "source": [
    "s2.add(\"hemu\")"
   ]
  },
  {
   "cell_type": "code",
   "execution_count": 71,
   "id": "9cf7823f",
   "metadata": {},
   "outputs": [
    {
     "data": {
      "text/plain": [
       "{1, 4, 6, 777, 778, 78, 8, 'hemu'}"
      ]
     },
     "execution_count": 71,
     "metadata": {},
     "output_type": "execute_result"
    }
   ],
   "source": [
    "s2"
   ]
  },
  {
   "cell_type": "code",
   "execution_count": 72,
   "id": "18f5b267",
   "metadata": {},
   "outputs": [
    {
     "ename": "TypeError",
     "evalue": "unhashable type: 'list'",
     "output_type": "error",
     "traceback": [
      "\u001b[1;31m---------------------------------------------------------------------------\u001b[0m",
      "\u001b[1;31mTypeError\u001b[0m                                 Traceback (most recent call last)",
      "\u001b[1;32mC:\\Users\\HEMRAJ~1\\AppData\\Local\\Temp/ipykernel_33348/3183983442.py\u001b[0m in \u001b[0;36m<module>\u001b[1;34m\u001b[0m\n\u001b[1;32m----> 1\u001b[1;33m \u001b[0ms2\u001b[0m\u001b[1;33m.\u001b[0m\u001b[0madd\u001b[0m\u001b[1;33m(\u001b[0m\u001b[1;33m[\u001b[0m\u001b[1;36m2\u001b[0m\u001b[1;33m,\u001b[0m\u001b[1;36m4\u001b[0m\u001b[1;33m]\u001b[0m\u001b[1;33m)\u001b[0m\u001b[1;33m\u001b[0m\u001b[1;33m\u001b[0m\u001b[0m\n\u001b[0m",
      "\u001b[1;31mTypeError\u001b[0m: unhashable type: 'list'"
     ]
    }
   ],
   "source": [
    "s2.add([2,4])"
   ]
  },
  {
   "cell_type": "code",
   "execution_count": 73,
   "id": "eb4d1a35",
   "metadata": {},
   "outputs": [],
   "source": [
    "s2.add((2,4))"
   ]
  },
  {
   "cell_type": "code",
   "execution_count": 74,
   "id": "845acb9d",
   "metadata": {},
   "outputs": [
    {
     "data": {
      "text/plain": [
       "{(2, 4), 1, 4, 6, 777, 778, 78, 8, 'hemu'}"
      ]
     },
     "execution_count": 74,
     "metadata": {},
     "output_type": "execute_result"
    }
   ],
   "source": [
    "s2"
   ]
  },
  {
   "cell_type": "code",
   "execution_count": 75,
   "id": "dbb73348",
   "metadata": {},
   "outputs": [],
   "source": [
    "s3 = {(2,3,3,34,5),4,6,6,8}"
   ]
  },
  {
   "cell_type": "markdown",
   "id": "b9e9a209",
   "metadata": {},
   "source": [
    "s3"
   ]
  },
  {
   "cell_type": "code",
   "execution_count": 77,
   "id": "3cf54eb3",
   "metadata": {},
   "outputs": [
    {
     "data": {
      "text/plain": [
       "{(2, 3, 3, 34, 5), 4, 6, 8}"
      ]
     },
     "execution_count": 77,
     "metadata": {},
     "output_type": "execute_result"
    }
   ],
   "source": [
    "s3"
   ]
  },
  {
   "cell_type": "code",
   "execution_count": 78,
   "id": "53ded2f7",
   "metadata": {},
   "outputs": [],
   "source": [
    "s3.remove(4)"
   ]
  },
  {
   "cell_type": "code",
   "execution_count": 79,
   "id": "db45d3af",
   "metadata": {},
   "outputs": [
    {
     "data": {
      "text/plain": [
       "{(2, 3, 3, 34, 5), 6, 8}"
      ]
     },
     "execution_count": 79,
     "metadata": {},
     "output_type": "execute_result"
    }
   ],
   "source": [
    "s3"
   ]
  },
  {
   "cell_type": "code",
   "execution_count": 82,
   "id": "b410af67",
   "metadata": {},
   "outputs": [],
   "source": [
    "s3.discard(8)"
   ]
  },
  {
   "cell_type": "code",
   "execution_count": 83,
   "id": "c0e021b2",
   "metadata": {},
   "outputs": [
    {
     "data": {
      "text/plain": [
       "{(2, 3, 3, 34, 5), 6}"
      ]
     },
     "execution_count": 83,
     "metadata": {},
     "output_type": "execute_result"
    }
   ],
   "source": [
    "s3"
   ]
  },
  {
   "cell_type": "code",
   "execution_count": 84,
   "id": "27982018",
   "metadata": {},
   "outputs": [
    {
     "ename": "KeyError",
     "evalue": "45",
     "output_type": "error",
     "traceback": [
      "\u001b[1;31m---------------------------------------------------------------------------\u001b[0m",
      "\u001b[1;31mKeyError\u001b[0m                                  Traceback (most recent call last)",
      "\u001b[1;32mC:\\Users\\HEMRAJ~1\\AppData\\Local\\Temp/ipykernel_33348/2452835093.py\u001b[0m in \u001b[0;36m<module>\u001b[1;34m\u001b[0m\n\u001b[1;32m----> 1\u001b[1;33m \u001b[0ms3\u001b[0m\u001b[1;33m.\u001b[0m\u001b[0mremove\u001b[0m\u001b[1;33m(\u001b[0m\u001b[1;36m45\u001b[0m\u001b[1;33m)\u001b[0m\u001b[1;33m\u001b[0m\u001b[1;33m\u001b[0m\u001b[0m\n\u001b[0m",
      "\u001b[1;31mKeyError\u001b[0m: 45"
     ]
    }
   ],
   "source": [
    "s3.remove(45)"
   ]
  },
  {
   "cell_type": "code",
   "execution_count": 87,
   "id": "ff390f12",
   "metadata": {},
   "outputs": [],
   "source": [
    "s3.discard(45)"
   ]
  },
  {
   "cell_type": "code",
   "execution_count": 88,
   "id": "e788c7e2",
   "metadata": {},
   "outputs": [
    {
     "data": {
      "text/plain": [
       "{(2, 3, 3, 34, 5), 6}"
      ]
     },
     "execution_count": 88,
     "metadata": {},
     "output_type": "execute_result"
    }
   ],
   "source": [
    "s3"
   ]
  },
  {
   "cell_type": "code",
   "execution_count": 90,
   "id": "6b17e405",
   "metadata": {},
   "outputs": [
    {
     "data": {
      "text/plain": [
       "{'Hem', 'hem'}"
      ]
     },
     "execution_count": 90,
     "metadata": {},
     "output_type": "execute_result"
    }
   ],
   "source": [
    "{\"hem\",\"Hem\"}"
   ]
  },
  {
   "cell_type": "code",
   "execution_count": null,
   "id": "b9f520e7",
   "metadata": {},
   "outputs": [],
   "source": []
  },
  {
   "cell_type": "code",
   "execution_count": null,
   "id": "ed63ed19",
   "metadata": {},
   "outputs": [],
   "source": []
  },
  {
   "cell_type": "code",
   "execution_count": null,
   "id": "24e4cdaa",
   "metadata": {},
   "outputs": [],
   "source": []
  },
  {
   "cell_type": "code",
   "execution_count": 93,
   "id": "a209c31c",
   "metadata": {},
   "outputs": [],
   "source": [
    "d = {4:\"hemraj\"}"
   ]
  },
  {
   "cell_type": "code",
   "execution_count": 94,
   "id": "05364eac",
   "metadata": {},
   "outputs": [
    {
     "data": {
      "text/plain": [
       "{4: 'hemraj'}"
      ]
     },
     "execution_count": 94,
     "metadata": {},
     "output_type": "execute_result"
    }
   ],
   "source": [
    "d"
   ]
  },
  {
   "cell_type": "code",
   "execution_count": 101,
   "id": "9e427c79",
   "metadata": {},
   "outputs": [],
   "source": [
    "d1 = {\"hemraj\" : 5442,\"jack\" : \"demo\", 45 : [2,3,4,5,6,65]}"
   ]
  },
  {
   "cell_type": "code",
   "execution_count": 102,
   "id": "a9fb170f",
   "metadata": {},
   "outputs": [
    {
     "data": {
      "text/plain": [
       "{'hemraj': 5442, 'jack': 'demo', 45: [2, 3, 4, 5, 6, 65]}"
      ]
     },
     "execution_count": 102,
     "metadata": {},
     "output_type": "execute_result"
    }
   ],
   "source": [
    "d1"
   ]
  },
  {
   "cell_type": "code",
   "execution_count": 103,
   "id": "5ebbd029",
   "metadata": {},
   "outputs": [
    {
     "data": {
      "text/plain": [
       "[2, 3, 4, 5, 6, 65]"
      ]
     },
     "execution_count": 103,
     "metadata": {},
     "output_type": "execute_result"
    }
   ],
   "source": [
    "d1[45]"
   ]
  },
  {
   "cell_type": "code",
   "execution_count": 105,
   "id": "e438dda1",
   "metadata": {},
   "outputs": [],
   "source": [
    "d = {\"hemraj\":[4,4,5,6]}"
   ]
  },
  {
   "cell_type": "code",
   "execution_count": 114,
   "id": "1a1e8d6d",
   "metadata": {},
   "outputs": [],
   "source": [
    "demi = {_4 : [4,4,5,6]}"
   ]
  },
  {
   "cell_type": "code",
   "execution_count": 117,
   "id": "3217567b",
   "metadata": {},
   "outputs": [],
   "source": [
    "d3  = {\"key1\":[1,3,3,4,3,3],\"key2\":(1,3,3,4,3,3),\"key1\":\"hemu\"}"
   ]
  },
  {
   "cell_type": "code",
   "execution_count": 118,
   "id": "af476db7",
   "metadata": {},
   "outputs": [
    {
     "data": {
      "text/plain": [
       "{'key1': 'hemu', 'key2': (1, 3, 3, 4, 3, 3)}"
      ]
     },
     "execution_count": 118,
     "metadata": {},
     "output_type": "execute_result"
    }
   ],
   "source": [
    "d3"
   ]
  },
  {
   "cell_type": "code",
   "execution_count": 125,
   "id": "3039db1f",
   "metadata": {},
   "outputs": [],
   "source": [
    "d = {\"name\":\"hm\",\"m_no\":4546554,\"email\":\"demo@gmail.com\",\"key1\":[1,2,2,3,4],\"key2\":(1,2,3,4,4),\"key3\":{1,2,3,4},\"key4\":{1:2,4:6}}"
   ]
  },
  {
   "cell_type": "code",
   "execution_count": 126,
   "id": "6ba03a34",
   "metadata": {},
   "outputs": [
    {
     "data": {
      "text/plain": [
       "{'name': 'hm',\n",
       " 'm_no': 4546554,\n",
       " 'email': 'demo@gmail.com',\n",
       " 'key1': [1, 2, 2, 3, 4],\n",
       " 'key2': (1, 2, 3, 4, 4),\n",
       " 'key3': {1, 2, 3, 4},\n",
       " 'key4': {1: 2, 4: 6}}"
      ]
     },
     "execution_count": 126,
     "metadata": {},
     "output_type": "execute_result"
    }
   ],
   "source": [
    "d"
   ]
  },
  {
   "cell_type": "code",
   "execution_count": 132,
   "id": "c9c255f6",
   "metadata": {},
   "outputs": [
    {
     "data": {
      "text/plain": [
       "6"
      ]
     },
     "execution_count": 132,
     "metadata": {},
     "output_type": "execute_result"
    }
   ],
   "source": [
    "d[\"key4\"][4]"
   ]
  },
  {
   "cell_type": "code",
   "execution_count": 134,
   "id": "5c897384",
   "metadata": {},
   "outputs": [
    {
     "data": {
      "text/plain": [
       "dict_keys(['name', 'm_no', 'email', 'key1', 'key2', 'key3', 'key4'])"
      ]
     },
     "execution_count": 134,
     "metadata": {},
     "output_type": "execute_result"
    }
   ],
   "source": [
    "d.keys()"
   ]
  },
  {
   "cell_type": "code",
   "execution_count": 136,
   "id": "3623c32b",
   "metadata": {},
   "outputs": [
    {
     "data": {
      "text/plain": [
       "dict_values"
      ]
     },
     "execution_count": 136,
     "metadata": {},
     "output_type": "execute_result"
    }
   ],
   "source": [
    "type(d.values())"
   ]
  },
  {
   "cell_type": "code",
   "execution_count": 137,
   "id": "f92f9a43",
   "metadata": {},
   "outputs": [
    {
     "data": {
      "text/plain": [
       "dict_items([('name', 'hm'), ('m_no', 4546554), ('email', 'demo@gmail.com'), ('key1', [1, 2, 2, 3, 4]), ('key2', (1, 2, 3, 4, 4)), ('key3', {1, 2, 3, 4}), ('key4', {1: 2, 4: 6})])"
      ]
     },
     "execution_count": 137,
     "metadata": {},
     "output_type": "execute_result"
    }
   ],
   "source": [
    "d.items()"
   ]
  },
  {
   "cell_type": "code",
   "execution_count": 138,
   "id": "bfea10cd",
   "metadata": {},
   "outputs": [],
   "source": [
    "d[\"key5\"] = \"sdfgfdsawswdefgtdfdwf\""
   ]
  },
  {
   "cell_type": "code",
   "execution_count": 139,
   "id": "ea286c9e",
   "metadata": {},
   "outputs": [
    {
     "data": {
      "text/plain": [
       "{'name': 'hm',\n",
       " 'm_no': 4546554,\n",
       " 'email': 'demo@gmail.com',\n",
       " 'key1': [1, 2, 2, 3, 4],\n",
       " 'key2': (1, 2, 3, 4, 4),\n",
       " 'key3': {1, 2, 3, 4},\n",
       " 'key4': {1: 2, 4: 6},\n",
       " 'key5': 'sdfgfdsawswdefgtdfdwf'}"
      ]
     },
     "execution_count": 139,
     "metadata": {},
     "output_type": "execute_result"
    }
   ],
   "source": [
    "d"
   ]
  },
  {
   "cell_type": "code",
   "execution_count": 140,
   "id": "9e43a699",
   "metadata": {},
   "outputs": [],
   "source": [
    "del d[\"key5\"]"
   ]
  },
  {
   "cell_type": "code",
   "execution_count": 141,
   "id": "9a892069",
   "metadata": {},
   "outputs": [
    {
     "data": {
      "text/plain": [
       "{'name': 'hm',\n",
       " 'm_no': 4546554,\n",
       " 'email': 'demo@gmail.com',\n",
       " 'key1': [1, 2, 2, 3, 4],\n",
       " 'key2': (1, 2, 3, 4, 4),\n",
       " 'key3': {1, 2, 3, 4},\n",
       " 'key4': {1: 2, 4: 6}}"
      ]
     },
     "execution_count": 141,
     "metadata": {},
     "output_type": "execute_result"
    }
   ],
   "source": [
    "d"
   ]
  },
  {
   "cell_type": "code",
   "execution_count": 142,
   "id": "01a987f4",
   "metadata": {},
   "outputs": [],
   "source": [
    "del d"
   ]
  },
  {
   "cell_type": "code",
   "execution_count": 143,
   "id": "1a1149b1",
   "metadata": {},
   "outputs": [
    {
     "ename": "NameError",
     "evalue": "name 'd' is not defined",
     "output_type": "error",
     "traceback": [
      "\u001b[1;31m---------------------------------------------------------------------------\u001b[0m",
      "\u001b[1;31mNameError\u001b[0m                                 Traceback (most recent call last)",
      "\u001b[1;32mC:\\Users\\HEMRAJ~1\\AppData\\Local\\Temp/ipykernel_33348/3161387801.py\u001b[0m in \u001b[0;36m<module>\u001b[1;34m\u001b[0m\n\u001b[1;32m----> 1\u001b[1;33m \u001b[0md\u001b[0m\u001b[1;33m\u001b[0m\u001b[1;33m\u001b[0m\u001b[0m\n\u001b[0m",
      "\u001b[1;31mNameError\u001b[0m: name 'd' is not defined"
     ]
    }
   ],
   "source": [
    "d"
   ]
  },
  {
   "cell_type": "code",
   "execution_count": 160,
   "id": "cab67cc3",
   "metadata": {},
   "outputs": [],
   "source": [
    "d = {\"name\":\"hm\",\"m_no\":4546554,\"email\":\"demo@gmail.com\",\"key1\":[1,2,2,3,4],\"key2\":(1,2,3,4,4),\"key3\":{1,2,3,4},\"key4\":{1:2,4:6}}"
   ]
  },
  {
   "cell_type": "code",
   "execution_count": 161,
   "id": "f4336414",
   "metadata": {},
   "outputs": [
    {
     "data": {
      "text/plain": [
       "{'name': 'hm',\n",
       " 'm_no': 4546554,\n",
       " 'email': 'demo@gmail.com',\n",
       " 'key1': [1, 2, 2, 3, 4],\n",
       " 'key2': (1, 2, 3, 4, 4),\n",
       " 'key3': {1, 2, 3, 4},\n",
       " 'key4': {1: 2, 4: 6}}"
      ]
     },
     "execution_count": 161,
     "metadata": {},
     "output_type": "execute_result"
    }
   ],
   "source": [
    "d"
   ]
  },
  {
   "cell_type": "code",
   "execution_count": 162,
   "id": "a1c2e4c1",
   "metadata": {},
   "outputs": [
    {
     "ename": "TypeError",
     "evalue": "unhashable type: 'list'",
     "output_type": "error",
     "traceback": [
      "\u001b[1;31m---------------------------------------------------------------------------\u001b[0m",
      "\u001b[1;31mTypeError\u001b[0m                                 Traceback (most recent call last)",
      "\u001b[1;32mC:\\Users\\HEMRAJ~1\\AppData\\Local\\Temp/ipykernel_33348/3547340666.py\u001b[0m in \u001b[0;36m<module>\u001b[1;34m\u001b[0m\n\u001b[1;32m----> 1\u001b[1;33m \u001b[0md\u001b[0m\u001b[1;33m[\u001b[0m\u001b[1;33m[\u001b[0m\u001b[1;36m1\u001b[0m\u001b[1;33m,\u001b[0m\u001b[1;36m2\u001b[0m\u001b[1;33m,\u001b[0m\u001b[1;36m2\u001b[0m\u001b[1;33m]\u001b[0m\u001b[1;33m]\u001b[0m \u001b[1;33m=\u001b[0m \u001b[1;34m\"jack\"\u001b[0m\u001b[1;33m\u001b[0m\u001b[1;33m\u001b[0m\u001b[0m\n\u001b[0m",
      "\u001b[1;31mTypeError\u001b[0m: unhashable type: 'list'"
     ]
    }
   ],
   "source": [
    "d[[1,2,2]] = \"jack\""
   ]
  },
  {
   "cell_type": "code",
   "execution_count": 147,
   "id": "004d170f",
   "metadata": {},
   "outputs": [],
   "source": [
    "d[(1,2,2)] = \"jack\""
   ]
  },
  {
   "cell_type": "code",
   "execution_count": 148,
   "id": "1514c143",
   "metadata": {},
   "outputs": [
    {
     "data": {
      "text/plain": [
       "{'name': 'hm',\n",
       " 'm_no': 4546554,\n",
       " 'email': 'demo@gmail.com',\n",
       " 'key1': [1, 2, 2, 3, 4],\n",
       " 'key2': (1, 2, 3, 4, 4),\n",
       " 'key3': {1, 2, 3, 4},\n",
       " 'key4': {1: 2, 4: 6},\n",
       " (1, 2, 2): 'jack'}"
      ]
     },
     "execution_count": 148,
     "metadata": {},
     "output_type": "execute_result"
    }
   ],
   "source": [
    "d"
   ]
  },
  {
   "cell_type": "code",
   "execution_count": 163,
   "id": "168eaba9",
   "metadata": {},
   "outputs": [
    {
     "data": {
      "text/plain": [
       "{1: 2, 4: 6}"
      ]
     },
     "execution_count": 163,
     "metadata": {},
     "output_type": "execute_result"
    }
   ],
   "source": [
    "d.get(\"key4\")"
   ]
  },
  {
   "cell_type": "code",
   "execution_count": 164,
   "id": "f39591fd",
   "metadata": {},
   "outputs": [],
   "source": [
    "d.get(\"q45\")"
   ]
  },
  {
   "cell_type": "code",
   "execution_count": 165,
   "id": "66b30e70",
   "metadata": {},
   "outputs": [
    {
     "data": {
      "text/plain": [
       "{'name': 'hm',\n",
       " 'm_no': 4546554,\n",
       " 'email': 'demo@gmail.com',\n",
       " 'key1': [1, 2, 2, 3, 4],\n",
       " 'key2': (1, 2, 3, 4, 4),\n",
       " 'key3': {1, 2, 3, 4},\n",
       " 'key4': {1: 2, 4: 6}}"
      ]
     },
     "execution_count": 165,
     "metadata": {},
     "output_type": "execute_result"
    }
   ],
   "source": [
    "d"
   ]
  },
  {
   "cell_type": "code",
   "execution_count": 166,
   "id": "80d3f124",
   "metadata": {},
   "outputs": [],
   "source": [
    "d2 = {\"eno\":34,\"id\":34}"
   ]
  },
  {
   "cell_type": "code",
   "execution_count": 167,
   "id": "b885248e",
   "metadata": {},
   "outputs": [],
   "source": [
    "d.update(d2)"
   ]
  },
  {
   "cell_type": "code",
   "execution_count": 168,
   "id": "cf906d8b",
   "metadata": {},
   "outputs": [
    {
     "data": {
      "text/plain": [
       "{'name': 'hm',\n",
       " 'm_no': 4546554,\n",
       " 'email': 'demo@gmail.com',\n",
       " 'key1': [1, 2, 2, 3, 4],\n",
       " 'key2': (1, 2, 3, 4, 4),\n",
       " 'key3': {1, 2, 3, 4},\n",
       " 'key4': {1: 2, 4: 6},\n",
       " 'eno': 34,\n",
       " 'id': 34}"
      ]
     },
     "execution_count": 168,
     "metadata": {},
     "output_type": "execute_result"
    }
   ],
   "source": [
    "d"
   ]
  },
  {
   "cell_type": "code",
   "execution_count": 169,
   "id": "8af3cf28",
   "metadata": {},
   "outputs": [
    {
     "ename": "TypeError",
     "evalue": "unsupported operand type(s) for +: 'dict' and 'dict'",
     "output_type": "error",
     "traceback": [
      "\u001b[1;31m---------------------------------------------------------------------------\u001b[0m",
      "\u001b[1;31mTypeError\u001b[0m                                 Traceback (most recent call last)",
      "\u001b[1;32mC:\\Users\\HEMRAJ~1\\AppData\\Local\\Temp/ipykernel_33348/3353569448.py\u001b[0m in \u001b[0;36m<module>\u001b[1;34m\u001b[0m\n\u001b[1;32m----> 1\u001b[1;33m \u001b[0md\u001b[0m\u001b[1;33m+\u001b[0m\u001b[0md2\u001b[0m\u001b[1;33m\u001b[0m\u001b[1;33m\u001b[0m\u001b[0m\n\u001b[0m",
      "\u001b[1;31mTypeError\u001b[0m: unsupported operand type(s) for +: 'dict' and 'dict'"
     ]
    }
   ],
   "source": [
    "d+d2"
   ]
  },
  {
   "cell_type": "code",
   "execution_count": 174,
   "id": "1dbeba1f",
   "metadata": {},
   "outputs": [],
   "source": [
    "t1 = (\"hemraj\",345,345,True)"
   ]
  },
  {
   "cell_type": "code",
   "execution_count": 175,
   "id": "4c0a6ba0",
   "metadata": {},
   "outputs": [
    {
     "data": {
      "text/plain": [
       "3"
      ]
     },
     "execution_count": 175,
     "metadata": {},
     "output_type": "execute_result"
    }
   ],
   "source": [
    "t1.index(True)"
   ]
  },
  {
   "cell_type": "code",
   "execution_count": null,
   "id": "24509fb0",
   "metadata": {},
   "outputs": [],
   "source": [
    "d.fromkeys()"
   ]
  }
 ],
 "metadata": {
  "kernelspec": {
   "display_name": "Python 3 (ipykernel)",
   "language": "python",
   "name": "python3"
  },
  "language_info": {
   "codemirror_mode": {
    "name": "ipython",
    "version": 3
   },
   "file_extension": ".py",
   "mimetype": "text/x-python",
   "name": "python",
   "nbconvert_exporter": "python",
   "pygments_lexer": "ipython3",
   "version": "3.9.7"
  }
 },
 "nbformat": 4,
 "nbformat_minor": 5
}
