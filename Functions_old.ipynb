{
 "cells": [
  {
   "cell_type": "code",
   "execution_count": 1,
   "id": "157b39ac",
   "metadata": {},
   "outputs": [],
   "source": [
    "def test():\n",
    "    pass;"
   ]
  },
  {
   "cell_type": "code",
   "execution_count": 4,
   "id": "60dc6da9",
   "metadata": {},
   "outputs": [],
   "source": [
    "def test2():\n",
    "    return \"this is my first function\""
   ]
  },
  {
   "cell_type": "code",
   "execution_count": 8,
   "id": "90b61443",
   "metadata": {},
   "outputs": [
    {
     "data": {
      "text/plain": [
       "'this is my first function Hemu'"
      ]
     },
     "execution_count": 8,
     "metadata": {},
     "output_type": "execute_result"
    }
   ],
   "source": [
    "test2() + \" Hemu\""
   ]
  },
  {
   "cell_type": "code",
   "execution_count": 9,
   "id": "678a0a05",
   "metadata": {},
   "outputs": [],
   "source": [
    "def test3():\n",
    "    return 10000;"
   ]
  },
  {
   "cell_type": "code",
   "execution_count": 13,
   "id": "095a1bc9",
   "metadata": {},
   "outputs": [
    {
     "data": {
      "text/plain": [
       "10002"
      ]
     },
     "execution_count": 13,
     "metadata": {},
     "output_type": "execute_result"
    }
   ],
   "source": [
    "test3() + 2"
   ]
  },
  {
   "cell_type": "code",
   "execution_count": 14,
   "id": "586be247",
   "metadata": {},
   "outputs": [],
   "source": [
    "def test4():\n",
    "    print(\"helloooooooo\");"
   ]
  },
  {
   "cell_type": "code",
   "execution_count": 16,
   "id": "ef15c64a",
   "metadata": {},
   "outputs": [
    {
     "name": "stdout",
     "output_type": "stream",
     "text": [
      "helloooooooo\n"
     ]
    },
    {
     "data": {
      "text/plain": [
       "NoneType"
      ]
     },
     "execution_count": 16,
     "metadata": {},
     "output_type": "execute_result"
    }
   ],
   "source": [
    "type(test4())"
   ]
  },
  {
   "cell_type": "code",
   "execution_count": 21,
   "id": "301f39dc",
   "metadata": {},
   "outputs": [],
   "source": [
    "def test5():\n",
    "    return 2,3,4,5,[2,3,5,3,52,5,74,2],\"hemu\""
   ]
  },
  {
   "cell_type": "code",
   "execution_count": 24,
   "id": "c809efbb",
   "metadata": {},
   "outputs": [],
   "source": [
    "b = test5()"
   ]
  },
  {
   "cell_type": "code",
   "execution_count": 27,
   "id": "3ade0faf",
   "metadata": {},
   "outputs": [
    {
     "data": {
      "text/plain": [
       "('hemu', [2, 3, 5, 3, 52, 5, 74, 2], 5, 4, 3, 2)"
      ]
     },
     "execution_count": 27,
     "metadata": {},
     "output_type": "execute_result"
    }
   ],
   "source": [
    "b[::-1]"
   ]
  },
  {
   "cell_type": "code",
   "execution_count": 29,
   "id": "020b6390",
   "metadata": {},
   "outputs": [],
   "source": [
    "q,w,e,r,t,y = test5()"
   ]
  },
  {
   "cell_type": "code",
   "execution_count": 30,
   "id": "966b5d3d",
   "metadata": {},
   "outputs": [
    {
     "data": {
      "text/plain": [
       "'hemu'"
      ]
     },
     "execution_count": 30,
     "metadata": {},
     "output_type": "execute_result"
    }
   ],
   "source": [
    "y"
   ]
  },
  {
   "cell_type": "code",
   "execution_count": 31,
   "id": "76e6c562",
   "metadata": {},
   "outputs": [
    {
     "data": {
      "text/plain": [
       "6.0"
      ]
     },
     "execution_count": 31,
     "metadata": {},
     "output_type": "execute_result"
    }
   ],
   "source": [
    "def test6():\n",
    "    a = 6*34/34\n",
    "    return a;\n",
    "\n",
    "test6()"
   ]
  },
  {
   "cell_type": "code",
   "execution_count": 37,
   "id": "5f24edf1",
   "metadata": {},
   "outputs": [
    {
     "data": {
      "text/plain": [
       "4"
      ]
     },
     "execution_count": 37,
     "metadata": {},
     "output_type": "execute_result"
    }
   ],
   "source": [
    "def test7(param):\n",
    "    return len(param)\n",
    "    \n",
    "test7(\"jack\")\n",
    "    "
   ]
  },
  {
   "cell_type": "code",
   "execution_count": 51,
   "id": "de8a6c80",
   "metadata": {},
   "outputs": [],
   "source": [
    "l = [\"Qf\",\"@3\",3,5,756,56,345,[234,4,5,6,7,2]]\n",
    "def filter(l):\n",
    "    if type(l) == list:\n",
    "        j = []\n",
    "        for item in l:\n",
    "            if type(item) == int:\n",
    "                j.append(item);\n",
    "        else:\n",
    "            return j\n",
    "    else:\n",
    "        return \"Plese provide a list\""
   ]
  },
  {
   "cell_type": "code",
   "execution_count": 52,
   "id": "1bb3e930",
   "metadata": {},
   "outputs": [
    {
     "name": "stdout",
     "output_type": "stream",
     "text": [
      "[3, 5, 756, 56, 345]\n"
     ]
    }
   ],
   "source": [
    "print(filter(l))"
   ]
  },
  {
   "cell_type": "code",
   "execution_count": null,
   "id": "eccf0716",
   "metadata": {},
   "outputs": [],
   "source": []
  },
  {
   "cell_type": "code",
   "execution_count": 53,
   "id": "cca46398",
   "metadata": {},
   "outputs": [],
   "source": [
    "def test8(c):\n",
    "    l = []\n",
    "    if type(c) ==  dict:\n",
    "        return c.keys()\n",
    "    \n",
    "    else:\n",
    "        return \"Please provide dic\"\n",
    "    "
   ]
  },
  {
   "cell_type": "code",
   "execution_count": 56,
   "id": "6c4397e3",
   "metadata": {},
   "outputs": [
    {
     "data": {
      "text/plain": [
       "dict_keys(['h', '24r'])"
      ]
     },
     "execution_count": 56,
     "metadata": {},
     "output_type": "execute_result"
    }
   ],
   "source": [
    "test8({\"h\":234,\"24r\":34})"
   ]
  },
  {
   "cell_type": "code",
   "execution_count": 78,
   "id": "ae04fb75",
   "metadata": {},
   "outputs": [],
   "source": [
    "def test9(l1,l2):\n",
    "    if type(l1) == list and type(l2) == list:\n",
    "        l1.extend(l2)\n",
    "        return l1\n",
    "    else:\n",
    "        return \"either of your data is not list\""
   ]
  },
  {
   "cell_type": "code",
   "execution_count": 79,
   "id": "7cb26fd1",
   "metadata": {},
   "outputs": [
    {
     "data": {
      "text/plain": [
       "'either of your data is not list'"
      ]
     },
     "execution_count": 79,
     "metadata": {},
     "output_type": "execute_result"
    }
   ],
   "source": [
    "test9(\"Aef\",\"ad\")"
   ]
  },
  {
   "cell_type": "code",
   "execution_count": 80,
   "id": "eb8c12be",
   "metadata": {},
   "outputs": [],
   "source": [
    "n = test9([3,24,23,23,2],[2,2,2,2,2])"
   ]
  },
  {
   "cell_type": "code",
   "execution_count": 81,
   "id": "90fc93ba",
   "metadata": {},
   "outputs": [
    {
     "data": {
      "text/plain": [
       "[3, 24, 23, 23, 2, 2, 2, 2, 2, 2]"
      ]
     },
     "execution_count": 81,
     "metadata": {},
     "output_type": "execute_result"
    }
   ],
   "source": [
    "n"
   ]
  },
  {
   "cell_type": "code",
   "execution_count": 106,
   "id": "62c15864",
   "metadata": {},
   "outputs": [
    {
     "name": "stdout",
     "output_type": "stream",
     "text": [
      "*\t\n",
      "**\t\n",
      "***\t\n",
      "****\t\n",
      "*****\t\n",
      "******\t\n",
      "*******\t\n",
      "********\t\n",
      "*********\t\n",
      "**********\t\n",
      "***********\t\n",
      "************\t\n",
      "*************\t\n",
      "**************\t\n",
      "***************\t\n",
      "****************\t\n",
      "*****************\t\n",
      "******************\t\n",
      "*******************\t\n",
      "********************\t\n",
      "*********************\t\n",
      "**********************\t\n",
      "***********************\t\n",
      "************************\t\n",
      "*************************\t\n",
      "**************************\t\n",
      "***************************\t\n",
      "****************************\t\n",
      "*****************************\t\n",
      "******************************\t\n",
      "*******************************\t\n",
      "********************************\t\n",
      "*********************************\t\n",
      "**********************************\t\n",
      "***********************************\t\n",
      "************************************\t\n",
      "*************************************\t\n",
      "**************************************\t\n",
      "***************************************\t\n",
      "****************************************\t\n",
      "*****************************************\t\n",
      "******************************************\t\n",
      "*******************************************\t\n",
      "********************************************\t\n",
      "*********************************************\t\n",
      "**********************************************\t\n",
      "***********************************************\t\n",
      "************************************************\t\n",
      "*************************************************\t\n",
      "**************************************************\t\n"
     ]
    }
   ],
   "source": [
    "def pattern(row):\n",
    "    \"\"\"This is function which will help you to print triangle with help of number of row\"\"\"\n",
    "    for i in range(1,row+1):\n",
    "        for j in range(i):\n",
    "            print(\"*\",end=\"\")\n",
    "        print(\"\\t\")\n",
    "\n",
    "pattern(50)"
   ]
  },
  {
   "cell_type": "code",
   "execution_count": 107,
   "id": "5f47f44c",
   "metadata": {},
   "outputs": [
    {
     "name": "stdout",
     "output_type": "stream",
     "text": [
      "Help on function pattern in module __main__:\n",
      "\n",
      "pattern(row)\n",
      "    This is function which will help you to print triangle with help of number of row\n",
      "\n"
     ]
    }
   ],
   "source": [
    "help(pattern)"
   ]
  },
  {
   "cell_type": "code",
   "execution_count": 109,
   "id": "e87dbb89",
   "metadata": {},
   "outputs": [
    {
     "name": "stdout",
     "output_type": "stream",
     "text": [
      "Help on built-in function len in module builtins:\n",
      "\n",
      "len(obj, /)\n",
      "    Return the number of items in a container.\n",
      "\n"
     ]
    }
   ],
   "source": [
    "help(len)"
   ]
  },
  {
   "cell_type": "code",
   "execution_count": 110,
   "id": "c2511d50",
   "metadata": {},
   "outputs": [],
   "source": [
    "#sdkmwkfkwrlfnwlnfl lnflwlf  wl"
   ]
  },
  {
   "cell_type": "code",
   "execution_count": 114,
   "id": "8febccdf",
   "metadata": {},
   "outputs": [
    {
     "data": {
      "text/plain": [
       "'sklfn\\naf\\nf\\nwf\\nwf\\nw\\nf\\nwef'"
      ]
     },
     "execution_count": 114,
     "metadata": {},
     "output_type": "execute_result"
    }
   ],
   "source": [
    "# multiple line comment\n",
    "\"\"\"sklfn\n",
    "af\n",
    "f\n",
    "wf\n",
    "wf\n",
    "w\n",
    "f\n",
    "wef\"\"\""
   ]
  },
  {
   "cell_type": "code",
   "execution_count": null,
   "id": "1bd127a3",
   "metadata": {},
   "outputs": [],
   "source": []
  },
  {
   "cell_type": "code",
   "execution_count": null,
   "id": "3167dd88",
   "metadata": {},
   "outputs": [],
   "source": []
  },
  {
   "cell_type": "code",
   "execution_count": 116,
   "id": "c1adf325",
   "metadata": {},
   "outputs": [
    {
     "data": {
      "text/plain": [
       "'1. len for str without inbuilt function\\n2. WAP print an index of premitive element which will you will pass\\n3. take nexted dict and give me output as list of all the value even in case of 2 level nesting it should work\\n4. WAP which will take a function as an input and return me an output\\n5. take a multiple list as an input a and return a contadination of all element\\n6. write a function which will take a list as an input return a index of each element like a inbuild index function \\nbut even if we have repeative element it should return index\\n7. write a funtion which will return list of all the file name form directory\\n8. write a function which will show system configuration\\n9. write a function which will show date and time\\n10. write a function which will read a image file and show it to you\\n11. write a function which will play a video file and play for you\\n12. write a funtion which will move file from one directory to another directory\\n13. write a function which will able to showdow your system\\n14. write a function which will able to access your mail\\n15. write a function which can send a email \\n16. write function to read a comolete PDF file\\n17. write a function read a while word file\\n18. filter a word file form directory\\n19. print IP of your system\\n20. append a two PDF file into one single file\\n'"
      ]
     },
     "execution_count": 116,
     "metadata": {},
     "output_type": "execute_result"
    }
   ],
   "source": [
    "\"\"\"\n",
    "\n",
    "\n",
    "1. len for str without in built function\n",
    "2. WAP print an index of premitive element which will you will pass\n",
    "3. take nexted dict and give me output as list of all the value even in case of 2 level nesting it should work\n",
    "4. WAP which will take a function as an input and return me an output\n",
    "5. take a multiple list as an input a and return a contadination of all element\n",
    "6. write a function which will take a list as an input return a index of each element like a inbuild index function\n",
    "but even if we have repeative element it should return index\n",
    "7. write a funtion which will return list of all the file name form directory\n",
    "8. write a function which will show system configuration\n",
    "9. write a function which will show date and time\n",
    "10. write a function which will read a image file and show it to you\n",
    "11. write a function which will play a video file and play for you\n",
    "12. write a funtion which will move file from one directory to another directory\n",
    "13. write a function which will able to showdow your system\n",
    "14. write a function which will able to access your mail\n",
    "15. write a function which can send a email\n",
    "16. write function to read a comolete PDF file\n",
    "17. write a function read a while word file\n",
    "18. filter a word file form directory\n",
    "19. print IP of your system\n",
    "20. append a two PDF file into one single file\n",
    "\n",
    "\n",
    "\"\"\"\n",
    "\n",
    "\n"
   ]
  },
  {
   "cell_type": "code",
   "execution_count": null,
   "id": "8eef85a8",
   "metadata": {},
   "outputs": [],
   "source": []
  }
 ],
 "metadata": {
  "kernelspec": {
   "display_name": "Python 3 (ipykernel)",
   "language": "python",
   "name": "python3"
  },
  "language_info": {
   "codemirror_mode": {
    "name": "ipython",
    "version": 3
   },
   "file_extension": ".py",
   "mimetype": "text/x-python",
   "name": "python",
   "nbconvert_exporter": "python",
   "pygments_lexer": "ipython3",
   "version": "3.9.7"
  }
 },
 "nbformat": 4,
 "nbformat_minor": 5
}
