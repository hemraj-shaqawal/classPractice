{
 "cells": [
  {
   "cell_type": "code",
   "execution_count": 1,
   "id": "bac1279d",
   "metadata": {},
   "outputs": [],
   "source": [
    "def test():\n",
    "    pass;"
   ]
  },
  {
   "cell_type": "code",
   "execution_count": 4,
   "id": "09547360",
   "metadata": {},
   "outputs": [],
   "source": [
    "def test2():\n",
    "    return \"this is my first function\""
   ]
  },
  {
   "cell_type": "code",
   "execution_count": 8,
   "id": "a0bbd643",
   "metadata": {},
   "outputs": [
    {
     "data": {
      "text/plain": [
       "'this is my first function Hemu'"
      ]
     },
     "execution_count": 8,
     "metadata": {},
     "output_type": "execute_result"
    }
   ],
   "source": [
    "test2() + \" Hemu\""
   ]
  },
  {
   "cell_type": "code",
   "execution_count": 9,
   "id": "f6a773d6",
   "metadata": {},
   "outputs": [],
   "source": [
    "def test3():\n",
    "    return 10000;"
   ]
  },
  {
   "cell_type": "code",
   "execution_count": 13,
   "id": "94e2b1b8",
   "metadata": {},
   "outputs": [
    {
     "data": {
      "text/plain": [
       "10002"
      ]
     },
     "execution_count": 13,
     "metadata": {},
     "output_type": "execute_result"
    }
   ],
   "source": [
    "test3() + 2"
   ]
  },
  {
   "cell_type": "code",
   "execution_count": 14,
   "id": "a4dc9c1f",
   "metadata": {},
   "outputs": [],
   "source": [
    "def test4():\n",
    "    print(\"helloooooooo\");"
   ]
  },
  {
   "cell_type": "code",
   "execution_count": 16,
   "id": "b36db42c",
   "metadata": {},
   "outputs": [
    {
     "name": "stdout",
     "output_type": "stream",
     "text": [
      "helloooooooo\n"
     ]
    },
    {
     "data": {
      "text/plain": [
       "NoneType"
      ]
     },
     "execution_count": 16,
     "metadata": {},
     "output_type": "execute_result"
    }
   ],
   "source": [
    "type(test4())"
   ]
  },
  {
   "cell_type": "code",
   "execution_count": 21,
   "id": "e71d9a94",
   "metadata": {},
   "outputs": [],
   "source": [
    "def test5():\n",
    "    return 2,3,4,5,[2,3,5,3,52,5,74,2],\"hemu\""
   ]
  },
  {
   "cell_type": "code",
   "execution_count": 24,
   "id": "66b2c91e",
   "metadata": {},
   "outputs": [],
   "source": [
    "b = test5()"
   ]
  },
  {
   "cell_type": "code",
   "execution_count": 27,
   "id": "74029bae",
   "metadata": {},
   "outputs": [
    {
     "data": {
      "text/plain": [
       "('hemu', [2, 3, 5, 3, 52, 5, 74, 2], 5, 4, 3, 2)"
      ]
     },
     "execution_count": 27,
     "metadata": {},
     "output_type": "execute_result"
    }
   ],
   "source": [
    "b[::-1]"
   ]
  },
  {
   "cell_type": "code",
   "execution_count": 29,
   "id": "7cefc79e",
   "metadata": {},
   "outputs": [],
   "source": [
    "q,w,e,r,t,y = test5()"
   ]
  },
  {
   "cell_type": "code",
   "execution_count": 30,
   "id": "8b14bbc5",
   "metadata": {},
   "outputs": [
    {
     "data": {
      "text/plain": [
       "'hemu'"
      ]
     },
     "execution_count": 30,
     "metadata": {},
     "output_type": "execute_result"
    }
   ],
   "source": [
    "y"
   ]
  },
  {
   "cell_type": "code",
   "execution_count": 31,
   "id": "d2b8d6e4",
   "metadata": {},
   "outputs": [
    {
     "data": {
      "text/plain": [
       "6.0"
      ]
     },
     "execution_count": 31,
     "metadata": {},
     "output_type": "execute_result"
    }
   ],
   "source": [
    "def test6():\n",
    "    a = 6*34/34\n",
    "    return a;\n",
    "\n",
    "test6()"
   ]
  },
  {
   "cell_type": "code",
   "execution_count": 37,
   "id": "d588c3ed",
   "metadata": {},
   "outputs": [
    {
     "data": {
      "text/plain": [
       "4"
      ]
     },
     "execution_count": 37,
     "metadata": {},
     "output_type": "execute_result"
    }
   ],
   "source": [
    "def test7(param):\n",
    "    return len(param)\n",
    "    \n",
    "test7(\"jack\")\n",
    "    "
   ]
  },
  {
   "cell_type": "code",
   "execution_count": 51,
   "id": "454292a3",
   "metadata": {},
   "outputs": [],
   "source": [
    "l = [\"Qf\",\"@3\",3,5,756,56,345,[234,4,5,6,7,2]]\n",
    "def filter(l):\n",
    "    if type(l) == list:\n",
    "        j = []\n",
    "        for item in l:\n",
    "            if type(item) == int:\n",
    "                j.append(item);\n",
    "        else:\n",
    "            return j\n",
    "    else:\n",
    "        return \"Plese provide a list\""
   ]
  },
  {
   "cell_type": "code",
   "execution_count": 52,
   "id": "5c968715",
   "metadata": {},
   "outputs": [
    {
     "name": "stdout",
     "output_type": "stream",
     "text": [
      "[3, 5, 756, 56, 345]\n"
     ]
    }
   ],
   "source": [
    "print(filter(l))"
   ]
  },
  {
   "cell_type": "code",
   "execution_count": null,
   "id": "91191b1b",
   "metadata": {},
   "outputs": [],
   "source": []
  },
  {
   "cell_type": "code",
   "execution_count": 53,
   "id": "f206a004",
   "metadata": {},
   "outputs": [],
   "source": [
    "def test8(c):\n",
    "    l = []\n",
    "    if type(c) ==  dict:\n",
    "        return c.keys()\n",
    "    \n",
    "    else:\n",
    "        return \"Please provide dic\"\n",
    "    "
   ]
  },
  {
   "cell_type": "code",
   "execution_count": 56,
   "id": "a57cc314",
   "metadata": {},
   "outputs": [
    {
     "data": {
      "text/plain": [
       "dict_keys(['h', '24r'])"
      ]
     },
     "execution_count": 56,
     "metadata": {},
     "output_type": "execute_result"
    }
   ],
   "source": [
    "test8({\"h\":234,\"24r\":34})"
   ]
  },
  {
   "cell_type": "code",
   "execution_count": 78,
   "id": "1c6b6dbf",
   "metadata": {},
   "outputs": [],
   "source": [
    "def test9(l1,l2):\n",
    "    if type(l1) == list and type(l2) == list:\n",
    "        l1.extend(l2)\n",
    "        return l1\n",
    "    else:\n",
    "        return \"either of your data is not list\""
   ]
  },
  {
   "cell_type": "code",
   "execution_count": 79,
   "id": "d9ac81b7",
   "metadata": {},
   "outputs": [
    {
     "data": {
      "text/plain": [
       "'either of your data is not list'"
      ]
     },
     "execution_count": 79,
     "metadata": {},
     "output_type": "execute_result"
    }
   ],
   "source": [
    "test9(\"Aef\",\"ad\")"
   ]
  },
  {
   "cell_type": "code",
   "execution_count": 80,
   "id": "39c95e9b",
   "metadata": {},
   "outputs": [],
   "source": [
    "n = test9([3,24,23,23,2],[2,2,2,2,2])"
   ]
  },
  {
   "cell_type": "code",
   "execution_count": 81,
   "id": "6ae839e9",
   "metadata": {},
   "outputs": [
    {
     "data": {
      "text/plain": [
       "[3, 24, 23, 23, 2, 2, 2, 2, 2, 2]"
      ]
     },
     "execution_count": 81,
     "metadata": {},
     "output_type": "execute_result"
    }
   ],
   "source": [
    "n"
   ]
  },
  {
   "cell_type": "code",
   "execution_count": 106,
   "id": "c00ef6a1",
   "metadata": {},
   "outputs": [
    {
     "name": "stdout",
     "output_type": "stream",
     "text": [
      "*\t\n",
      "**\t\n",
      "***\t\n",
      "****\t\n",
      "*****\t\n",
      "******\t\n",
      "*******\t\n",
      "********\t\n",
      "*********\t\n",
      "**********\t\n",
      "***********\t\n",
      "************\t\n",
      "*************\t\n",
      "**************\t\n",
      "***************\t\n",
      "****************\t\n",
      "*****************\t\n",
      "******************\t\n",
      "*******************\t\n",
      "********************\t\n",
      "*********************\t\n",
      "**********************\t\n",
      "***********************\t\n",
      "************************\t\n",
      "*************************\t\n",
      "**************************\t\n",
      "***************************\t\n",
      "****************************\t\n",
      "*****************************\t\n",
      "******************************\t\n",
      "*******************************\t\n",
      "********************************\t\n",
      "*********************************\t\n",
      "**********************************\t\n",
      "***********************************\t\n",
      "************************************\t\n",
      "*************************************\t\n",
      "**************************************\t\n",
      "***************************************\t\n",
      "****************************************\t\n",
      "*****************************************\t\n",
      "******************************************\t\n",
      "*******************************************\t\n",
      "********************************************\t\n",
      "*********************************************\t\n",
      "**********************************************\t\n",
      "***********************************************\t\n",
      "************************************************\t\n",
      "*************************************************\t\n",
      "**************************************************\t\n"
     ]
    }
   ],
   "source": [
    "def pattern(row):\n",
    "    \"\"\"This is function which will help you to print triangle with help of number of row\"\"\"\n",
    "    for i in range(1,row+1):\n",
    "        for j in range(i):\n",
    "            print(\"*\",end=\"\")\n",
    "        print(\"\\t\")\n",
    "\n",
    "pattern(50)"
   ]
  },
  {
   "cell_type": "code",
   "execution_count": 107,
   "id": "a157e1f1",
   "metadata": {},
   "outputs": [
    {
     "name": "stdout",
     "output_type": "stream",
     "text": [
      "Help on function pattern in module __main__:\n",
      "\n",
      "pattern(row)\n",
      "    This is function which will help you to print triangle with help of number of row\n",
      "\n"
     ]
    }
   ],
   "source": [
    "help(pattern)"
   ]
  },
  {
   "cell_type": "code",
   "execution_count": 109,
   "id": "7d54e6d8",
   "metadata": {},
   "outputs": [
    {
     "name": "stdout",
     "output_type": "stream",
     "text": [
      "Help on built-in function len in module builtins:\n",
      "\n",
      "len(obj, /)\n",
      "    Return the number of items in a container.\n",
      "\n"
     ]
    }
   ],
   "source": [
    "help(len)"
   ]
  },
  {
   "cell_type": "code",
   "execution_count": 110,
   "id": "547eab04",
   "metadata": {},
   "outputs": [],
   "source": [
    "#sdkmwkfkwrlfnwlnfl lnflwlf  wl"
   ]
  },
  {
   "cell_type": "code",
   "execution_count": 114,
   "id": "bd5b39ca",
   "metadata": {},
   "outputs": [
    {
     "data": {
      "text/plain": [
       "'sklfn\\naf\\nf\\nwf\\nwf\\nw\\nf\\nwef'"
      ]
     },
     "execution_count": 114,
     "metadata": {},
     "output_type": "execute_result"
    }
   ],
   "source": [
    "# multiple line comment\n",
    "\"\"\"sklfn\n",
    "af\n",
    "f\n",
    "wf\n",
    "wf\n",
    "w\n",
    "f\n",
    "wef\"\"\""
   ]
  },
  {
   "cell_type": "code",
   "execution_count": null,
   "id": "ff85a44f",
   "metadata": {},
   "outputs": [],
   "source": []
  },
  {
   "cell_type": "code",
   "execution_count": null,
   "id": "ded67ee6",
   "metadata": {},
   "outputs": [],
   "source": []
  },
  {
   "cell_type": "code",
   "execution_count": 116,
   "id": "c2b654f6",
   "metadata": {},
   "outputs": [
    {
     "data": {
      "text/plain": [
       "'1. len for str without inbuilt function\\n2. WAP print an index of premitive element which will you will pass\\n3. take nexted dict and give me output as list of all the value even in case of 2 level nesting it should work\\n4. WAP which will take a function as an input and return me an output\\n5. take a multiple list as an input a and return a contadination of all element\\n6. write a function which will take a list as an input return a index of each element like a inbuild index function \\nbut even if we have repeative element it should return index\\n7. write a funtion which will return list of all the file name form directory\\n8. write a function which will show system configuration\\n9. write a function which will show date and time\\n10. write a function which will read a image file and show it to you\\n11. write a function which will play a video file and play for you\\n12. write a funtion which will move file from one directory to another directory\\n13. write a function which will able to showdow your system\\n14. write a function which will able to access your mail\\n15. write a function which can send a email \\n16. write function to read a comolete PDF file\\n17. write a function read a while word file\\n18. filter a word file form directory\\n19. print IP of your system\\n20. append a two PDF file into one single file\\n'"
      ]
     },
     "execution_count": 116,
     "metadata": {},
     "output_type": "execute_result"
    }
   ],
   "source": [
    "\"\"\"\n",
    "1. len for str without inbuilt function\n",
    "2. WAP print an index of premitive element which will you will pass\n",
    "3. take nexted dict and give me output as list of all the value even in case of 2 level nesting it should work\n",
    "4. WAP which will take a function as an input and return me an output\n",
    "5. take a multiple list as an input a and return a contadination of all element\n",
    "6. write a function which will take a list as an input return a index of each element like a inbuild index function \n",
    "but even if we have repeative element it should return index\n",
    "7. write a funtion which will return list of all the file name form directory\n",
    "8. write a function which will show system configuration\n",
    "9. write a function which will show date and time\n",
    "10. write a function which will read a image file and show it to you\n",
    "11. write a function which will play a video file and play for you\n",
    "12. write a funtion which will move file from one directory to another directory\n",
    "13. write a function which will able to showdow your system\n",
    "14. write a function which will able to access your mail\n",
    "15. write a function which can send a email \n",
    "16. write function to read a comolete PDF file\n",
    "17. write a function read a while word file\n",
    "18. filter a word file form directory\n",
    "19. print IP of your system\n",
    "20. append a two PDF file into one single file\n",
    "\"\"\"\n",
    "\n",
    "\n"
   ]
  },
  {
   "cell_type": "code",
   "execution_count": null,
   "id": "99917608",
   "metadata": {},
   "outputs": [],
   "source": [
    "\n"
   ]
  },
  {
   "cell_type": "code",
   "execution_count": null,
   "id": "8e48b76f",
   "metadata": {},
   "outputs": [],
   "source": []
  },
  {
   "cell_type": "code",
   "execution_count": null,
   "id": "14317674",
   "metadata": {},
   "outputs": [],
   "source": []
  },
  {
   "cell_type": "markdown",
   "id": "3aac05a4",
   "metadata": {},
   "source": [
    "# Pass multiple Argument in function"
   ]
  },
  {
   "cell_type": "code",
   "execution_count": 4,
   "id": "ebdf9f35",
   "metadata": {},
   "outputs": [],
   "source": [
    "def demo(*argument):\n",
    "    return argument"
   ]
  },
  {
   "cell_type": "code",
   "execution_count": 6,
   "id": "81ed3612",
   "metadata": {},
   "outputs": [
    {
     "data": {
      "text/plain": [
       "(1,\n",
       " 3,\n",
       " 3,\n",
       " 3,\n",
       " 4,\n",
       " [34, 234, 24234, 234, 32],\n",
       " (234, 234, 234, 24, 43234, 23),\n",
       " 'hemu')"
      ]
     },
     "execution_count": 6,
     "metadata": {},
     "output_type": "execute_result"
    }
   ],
   "source": [
    "demo(1,3,3,3,4,[34,234,24234,234,32],(234,234,234,24,43234,23),\"hemu\")"
   ]
  },
  {
   "cell_type": "code",
   "execution_count": 9,
   "id": "00a09704",
   "metadata": {},
   "outputs": [],
   "source": [
    "def demo1(*param,a,b,c):\n",
    "    return param,a,b,c"
   ]
  },
  {
   "cell_type": "code",
   "execution_count": 11,
   "id": "d3c8304e",
   "metadata": {},
   "outputs": [
    {
     "data": {
      "text/plain": [
       "((2, 12, 31, 31, 3, 324), 345, [33, 234, 234, 234, 13], 'hemraj')"
      ]
     },
     "execution_count": 11,
     "metadata": {},
     "output_type": "execute_result"
    }
   ],
   "source": [
    "demo1(2,12,31,31,3,324,a=345,b=[33,234,234,234,13],c=\"hemraj\")"
   ]
  },
  {
   "cell_type": "code",
   "execution_count": 17,
   "id": "f56dd141",
   "metadata": {},
   "outputs": [],
   "source": [
    "def demo2(a,*peram,b,c):\n",
    "    return a,peram,b,c"
   ]
  },
  {
   "cell_type": "code",
   "execution_count": 18,
   "id": "427b4d72",
   "metadata": {},
   "outputs": [
    {
     "data": {
      "text/plain": [
       "('adff', (234, 23, 42, 4, 24, 245, 45, 245, 4, 5), 234, 234)"
      ]
     },
     "execution_count": 18,
     "metadata": {},
     "output_type": "execute_result"
    }
   ],
   "source": [
    "    demo2(\"adff\",234,23,42,4,24,245,45,245,4,5,b=234,c=234)"
   ]
  },
  {
   "cell_type": "code",
   "execution_count": 29,
   "id": "c2e56217",
   "metadata": {},
   "outputs": [],
   "source": [
    "def demo3(*peram):\n",
    "    l = []\n",
    "    for item in peram:\n",
    "        if type(item) == list:\n",
    "            l.append(item)\n",
    "    \n",
    "    return l"
   ]
  },
  {
   "cell_type": "code",
   "execution_count": 30,
   "id": "1591446f",
   "metadata": {},
   "outputs": [
    {
     "data": {
      "text/plain": [
       "[[234, 342, 34, 234]]"
      ]
     },
     "execution_count": 30,
     "metadata": {},
     "output_type": "execute_result"
    }
   ],
   "source": [
    "demo3(23,42,34,234,[234,342,34,234])"
   ]
  },
  {
   "cell_type": "code",
   "execution_count": 31,
   "id": "bd0109be",
   "metadata": {},
   "outputs": [],
   "source": [
    "def demo4(**kwargs):\n",
    "    return kwargs"
   ]
  },
  {
   "cell_type": "code",
   "execution_count": 34,
   "id": "144ded6c",
   "metadata": {},
   "outputs": [
    {
     "data": {
      "text/plain": [
       "{'a': 34, 'b': [1334, 34, 234, 234, 234, 13], 'c': 'hemu'}"
      ]
     },
     "execution_count": 34,
     "metadata": {},
     "output_type": "execute_result"
    }
   ],
   "source": [
    "demo4(a = 34,b=[1334,34,234,234,234,13],c=\"hemu\")"
   ]
  },
  {
   "cell_type": "code",
   "execution_count": 37,
   "id": "2dc961f1",
   "metadata": {},
   "outputs": [
    {
     "ename": "SyntaxError",
     "evalue": "expression cannot contain assignment, perhaps you meant \"==\"? (Temp/ipykernel_2912/327895584.py, line 1)",
     "output_type": "error",
     "traceback": [
      "\u001b[1;36m  File \u001b[1;32m\"C:\\Users\\HEMRAJ~1\\AppData\\Local\\Temp/ipykernel_2912/327895584.py\"\u001b[1;36m, line \u001b[1;32m1\u001b[0m\n\u001b[1;33m    demo4(2=\"dqd\")\u001b[0m\n\u001b[1;37m          ^\u001b[0m\n\u001b[1;31mSyntaxError\u001b[0m\u001b[1;31m:\u001b[0m expression cannot contain assignment, perhaps you meant \"==\"?\n"
     ]
    }
   ],
   "source": [
    "demo4(2=\"dqd\")"
   ]
  },
  {
   "cell_type": "code",
   "execution_count": 38,
   "id": "ff0dd198",
   "metadata": {},
   "outputs": [
    {
     "data": {
      "text/plain": [
       "{'v': 'ASd'}"
      ]
     },
     "execution_count": 38,
     "metadata": {},
     "output_type": "execute_result"
    }
   ],
   "source": [
    "demo4(v=\"ASd\")"
   ]
  },
  {
   "cell_type": "code",
   "execution_count": 39,
   "id": "06dc4ca1",
   "metadata": {},
   "outputs": [
    {
     "ename": "SyntaxError",
     "evalue": "invalid syntax (Temp/ipykernel_2912/3838487107.py, line 1)",
     "output_type": "error",
     "traceback": [
      "\u001b[1;36m  File \u001b[1;32m\"C:\\Users\\HEMRAJ~1\\AppData\\Local\\Temp/ipykernel_2912/3838487107.py\"\u001b[1;36m, line \u001b[1;32m1\u001b[0m\n\u001b[1;33m    def demo5(a,**kwargs,*args):\u001b[0m\n\u001b[1;37m                         ^\u001b[0m\n\u001b[1;31mSyntaxError\u001b[0m\u001b[1;31m:\u001b[0m invalid syntax\n"
     ]
    }
   ],
   "source": [
    "def demo5(a,**kwargs,*args):\n",
    "    return a,kwargs,args"
   ]
  },
  {
   "cell_type": "code",
   "execution_count": 41,
   "id": "552cffaf",
   "metadata": {},
   "outputs": [],
   "source": [
    "def demo5(a,*args,**kwargs):\n",
    "    return a,kwargs,args"
   ]
  },
  {
   "cell_type": "code",
   "execution_count": 42,
   "id": "fde65666",
   "metadata": {},
   "outputs": [
    {
     "data": {
      "text/plain": [
       "(3333, {'d': 234, 'c': 'Aef'}, (34, 234, 234, 234, 234, 324))"
      ]
     },
     "execution_count": 42,
     "metadata": {},
     "output_type": "execute_result"
    }
   ],
   "source": [
    "demo5(3333,34,234,234,234,234,324,d=234,c=\"Aef\")"
   ]
  },
  {
   "cell_type": "code",
   "execution_count": null,
   "id": "4c2e5e49",
   "metadata": {},
   "outputs": [],
   "source": []
  },
  {
   "cell_type": "markdown",
   "id": "dbeaea6e",
   "metadata": {},
   "source": [
    "## anonymous function or Lambda function"
   ]
  },
  {
   "cell_type": "code",
   "execution_count": 43,
   "id": "b22b7584",
   "metadata": {},
   "outputs": [],
   "source": [
    "a = lambda a,b:a*b"
   ]
  },
  {
   "cell_type": "code",
   "execution_count": 44,
   "id": "2a7658cb",
   "metadata": {},
   "outputs": [
    {
     "data": {
      "text/plain": [
       "2176"
      ]
     },
     "execution_count": 44,
     "metadata": {},
     "output_type": "execute_result"
    }
   ],
   "source": [
    "a(34,64)"
   ]
  },
  {
   "cell_type": "code",
   "execution_count": 45,
   "id": "c09b9287",
   "metadata": {},
   "outputs": [],
   "source": [
    "c = lambda a,b:(a*b, a+b)"
   ]
  },
  {
   "cell_type": "code",
   "execution_count": 46,
   "id": "916cc5d6",
   "metadata": {},
   "outputs": [
    {
     "data": {
      "text/plain": [
       "(7956, 268)"
      ]
     },
     "execution_count": 46,
     "metadata": {},
     "output_type": "execute_result"
    }
   ],
   "source": [
    "c(34,234)"
   ]
  },
  {
   "cell_type": "code",
   "execution_count": 60,
   "id": "fe2991ae",
   "metadata": {},
   "outputs": [
    {
     "data": {
      "text/plain": [
       "[45369, 169, 169, 17161]"
      ]
     },
     "execution_count": 60,
     "metadata": {},
     "output_type": "execute_result"
    }
   ],
   "source": [
    "d = lambda d: [i*i for i in d]\n",
    "\n",
    "d([213,13,13,131])"
   ]
  },
  {
   "cell_type": "code",
   "execution_count": 61,
   "id": "a9b5f511",
   "metadata": {},
   "outputs": [],
   "source": [
    "c = lambda *c:c"
   ]
  },
  {
   "cell_type": "code",
   "execution_count": 62,
   "id": "d0caecef",
   "metadata": {},
   "outputs": [
    {
     "data": {
      "text/plain": [
       "(234, 24, 234, 234, 234, 24, 234)"
      ]
     },
     "execution_count": 62,
     "metadata": {},
     "output_type": "execute_result"
    }
   ],
   "source": [
    "c(234,24,234,234,234,24,234)"
   ]
  },
  {
   "cell_type": "code",
   "execution_count": 63,
   "id": "00bda4de",
   "metadata": {},
   "outputs": [
    {
     "data": {
      "text/plain": [
       "{'b': 2, 'v': 23}"
      ]
     },
     "execution_count": 63,
     "metadata": {},
     "output_type": "execute_result"
    }
   ],
   "source": [
    "a = lambda **kwargs:kwargs\n",
    "a(b=2,v=23)"
   ]
  },
  {
   "cell_type": "code",
   "execution_count": 65,
   "id": "cef44eb0",
   "metadata": {},
   "outputs": [
    {
     "data": {
      "text/plain": [
       "250"
      ]
     },
     "execution_count": 65,
     "metadata": {},
     "output_type": "execute_result"
    }
   ],
   "source": [
    "a = 10\n",
    "def demo10(c,d):\n",
    "    c=5\n",
    "    return c*d\n",
    "\n",
    "demo10(a,50)"
   ]
  },
  {
   "cell_type": "markdown",
   "id": "9d0db906",
   "metadata": {},
   "source": [
    "# list compriation\n"
   ]
  },
  {
   "cell_type": "code",
   "execution_count": 67,
   "id": "063244e7",
   "metadata": {},
   "outputs": [],
   "source": [
    "l = [34,234,234,2334,234,2334,2334,24]"
   ]
  },
  {
   "cell_type": "code",
   "execution_count": 70,
   "id": "d5d06953",
   "metadata": {},
   "outputs": [
    {
     "data": {
      "text/plain": [
       "[68, 468, 468, 4668, 468, 4668, 4668, 48]"
      ]
     },
     "execution_count": 70,
     "metadata": {},
     "output_type": "execute_result"
    }
   ],
   "source": [
    "[i*2 for i in l]"
   ]
  },
  {
   "cell_type": "code",
   "execution_count": 73,
   "id": "c43fd334",
   "metadata": {},
   "outputs": [
    {
     "data": {
      "text/plain": [
       "[(1156, 68), (576, 48)]"
      ]
     },
     "execution_count": 73,
     "metadata": {},
     "output_type": "execute_result"
    }
   ],
   "source": [
    "[(i**2,i+i) for i in l if i < 40]"
   ]
  },
  {
   "cell_type": "code",
   "execution_count": 75,
   "id": "91728e5b",
   "metadata": {},
   "outputs": [
    {
     "data": {
      "text/plain": [
       "[(1156, 68), (576, 48)]"
      ]
     },
     "execution_count": 75,
     "metadata": {},
     "output_type": "execute_result"
    }
   ],
   "source": [
    "[(i**2,i+i) for i in l if i < 40 if i > 20]"
   ]
  },
  {
   "cell_type": "markdown",
   "id": "fe58811c",
   "metadata": {},
   "source": [
    "# dictionary compriation"
   ]
  },
  {
   "cell_type": "code",
   "execution_count": 79,
   "id": "6b0a8a0b",
   "metadata": {},
   "outputs": [
    {
     "data": {
      "text/plain": [
       "{0: 0, 1: 2, 2: 4, 3: 6, 4: 8, 5: 10, 6: 12, 7: 14, 8: 16, 9: 18}"
      ]
     },
     "execution_count": 79,
     "metadata": {},
     "output_type": "execute_result"
    }
   ],
   "source": [
    "{i:i*2 for i in range(10)}"
   ]
  },
  {
   "cell_type": "code",
   "execution_count": 83,
   "id": "777b7531",
   "metadata": {},
   "outputs": [
    {
     "data": {
      "text/plain": [
       "(0, 1, 2, 3, 4, 5, 6, 7, 8, 9)"
      ]
     },
     "execution_count": 83,
     "metadata": {},
     "output_type": "execute_result"
    }
   ],
   "source": [
    "tuple(i for i in range(10))"
   ]
  },
  {
   "cell_type": "code",
   "execution_count": 84,
   "id": "aa4e8bca",
   "metadata": {},
   "outputs": [
    {
     "ename": "TypeError",
     "evalue": "'int' object is not iterable",
     "output_type": "error",
     "traceback": [
      "\u001b[1;31m---------------------------------------------------------------------------\u001b[0m",
      "\u001b[1;31mTypeError\u001b[0m                                 Traceback (most recent call last)",
      "\u001b[1;32mC:\\Users\\HEMRAJ~1\\AppData\\Local\\Temp/ipykernel_2912/815125379.py\u001b[0m in \u001b[0;36m<module>\u001b[1;34m\u001b[0m\n\u001b[0;32m      1\u001b[0m \u001b[0ma\u001b[0m \u001b[1;33m=\u001b[0m \u001b[1;36m56\u001b[0m\u001b[1;33m\u001b[0m\u001b[1;33m\u001b[0m\u001b[0m\n\u001b[1;32m----> 2\u001b[1;33m \u001b[1;32mfor\u001b[0m \u001b[0mi\u001b[0m \u001b[1;32min\u001b[0m \u001b[0ma\u001b[0m\u001b[1;33m:\u001b[0m\u001b[1;33m\u001b[0m\u001b[1;33m\u001b[0m\u001b[0m\n\u001b[0m\u001b[0;32m      3\u001b[0m     \u001b[0mprint\u001b[0m\u001b[1;33m(\u001b[0m\u001b[0mi\u001b[0m\u001b[1;33m)\u001b[0m\u001b[1;33m\u001b[0m\u001b[1;33m\u001b[0m\u001b[0m\n",
      "\u001b[1;31mTypeError\u001b[0m: 'int' object is not iterable"
     ]
    }
   ],
   "source": [
    "a = 56\n",
    "for i in a:\n",
    "    print(i)"
   ]
  },
  {
   "cell_type": "code",
   "execution_count": 85,
   "id": "67e4a8b3",
   "metadata": {},
   "outputs": [
    {
     "ename": "TypeError",
     "evalue": "'int' object is not iterable",
     "output_type": "error",
     "traceback": [
      "\u001b[1;31m---------------------------------------------------------------------------\u001b[0m",
      "\u001b[1;31mTypeError\u001b[0m                                 Traceback (most recent call last)",
      "\u001b[1;32mC:\\Users\\HEMRAJ~1\\AppData\\Local\\Temp/ipykernel_2912/3186544426.py\u001b[0m in \u001b[0;36m<module>\u001b[1;34m\u001b[0m\n\u001b[1;32m----> 1\u001b[1;33m \u001b[0miter\u001b[0m\u001b[1;33m(\u001b[0m\u001b[1;36m45\u001b[0m\u001b[1;33m)\u001b[0m\u001b[1;33m\u001b[0m\u001b[1;33m\u001b[0m\u001b[0m\n\u001b[0m",
      "\u001b[1;31mTypeError\u001b[0m: 'int' object is not iterable"
     ]
    }
   ],
   "source": [
    "iter(45)"
   ]
  },
  {
   "cell_type": "code",
   "execution_count": 86,
   "id": "ac0c2cfa",
   "metadata": {},
   "outputs": [],
   "source": [
    "s = \"hemu\""
   ]
  },
  {
   "cell_type": "code",
   "execution_count": 92,
   "id": "676f8fab",
   "metadata": {},
   "outputs": [],
   "source": [
    "a = lambda *a:[i for i in a]"
   ]
  },
  {
   "cell_type": "code",
   "execution_count": 94,
   "id": "8cdb9bdf",
   "metadata": {},
   "outputs": [
    {
     "data": {
      "text/plain": [
       "[1, 1, 1]"
      ]
     },
     "execution_count": 94,
     "metadata": {},
     "output_type": "execute_result"
    }
   ],
   "source": [
    "a(1,1,1)"
   ]
  },
  {
   "cell_type": "markdown",
   "id": "99df0a8a",
   "metadata": {},
   "source": [
    "# #itreable or iterator"
   ]
  },
  {
   "cell_type": "code",
   "execution_count": 40,
   "id": "dc83e14c",
   "metadata": {},
   "outputs": [],
   "source": [
    "l = [1,1,1,1,1,1,2]\n",
    "lengthL = len(l)"
   ]
  },
  {
   "cell_type": "code",
   "execution_count": 41,
   "id": "4442119e",
   "metadata": {},
   "outputs": [],
   "source": [
    "l =  iter(l)\n",
    "count = 0\n",
    "while count < lengthL:\n",
    "    count = count + 1\n",
    "    next(l)\n",
    "    "
   ]
  },
  {
   "cell_type": "code",
   "execution_count": 34,
   "id": "dcca7bb8",
   "metadata": {},
   "outputs": [
    {
     "ename": "StopIteration",
     "evalue": "",
     "output_type": "error",
     "traceback": [
      "\u001b[1;31m---------------------------------------------------------------------------\u001b[0m",
      "\u001b[1;31mStopIteration\u001b[0m                             Traceback (most recent call last)",
      "\u001b[1;32mC:\\Users\\HEMRAJ~1\\AppData\\Local\\Temp/ipykernel_23608/119377637.py\u001b[0m in \u001b[0;36m<module>\u001b[1;34m\u001b[0m\n\u001b[0;32m      2\u001b[0m \u001b[0mcount\u001b[0m \u001b[1;33m=\u001b[0m \u001b[1;36m0\u001b[0m\u001b[1;33m\u001b[0m\u001b[1;33m\u001b[0m\u001b[0m\n\u001b[0;32m      3\u001b[0m \u001b[1;32mwhile\u001b[0m \u001b[0mcount\u001b[0m \u001b[1;33m<\u001b[0m \u001b[0mlengthL\u001b[0m\u001b[1;33m:\u001b[0m\u001b[1;33m\u001b[0m\u001b[1;33m\u001b[0m\u001b[0m\n\u001b[1;32m----> 4\u001b[1;33m     \u001b[0mnext\u001b[0m\u001b[1;33m(\u001b[0m\u001b[0ml\u001b[0m\u001b[1;33m)\u001b[0m\u001b[1;33m\u001b[0m\u001b[1;33m\u001b[0m\u001b[0m\n\u001b[0m\u001b[0;32m      5\u001b[0m     \u001b[0mcount\u001b[0m \u001b[1;33m=\u001b[0m \u001b[0mcount\u001b[0m \u001b[1;33m+\u001b[0m \u001b[1;36m1\u001b[0m\u001b[1;33m\u001b[0m\u001b[1;33m\u001b[0m\u001b[0m\n",
      "\u001b[1;31mStopIteration\u001b[0m: "
     ]
    }
   ],
   "source": []
  },
  {
   "cell_type": "code",
   "execution_count": 23,
   "id": "b39dbabb",
   "metadata": {},
   "outputs": [
    {
     "data": {
      "text/plain": [
       "1"
      ]
     },
     "execution_count": 23,
     "metadata": {},
     "output_type": "execute_result"
    }
   ],
   "source": [
    "next(l)"
   ]
  },
  {
   "cell_type": "code",
   "execution_count": 24,
   "id": "ec5853e7",
   "metadata": {},
   "outputs": [
    {
     "data": {
      "text/plain": [
       "1"
      ]
     },
     "execution_count": 24,
     "metadata": {},
     "output_type": "execute_result"
    }
   ],
   "source": [
    "next(l)"
   ]
  },
  {
   "cell_type": "code",
   "execution_count": 25,
   "id": "0f444d3a",
   "metadata": {},
   "outputs": [
    {
     "data": {
      "text/plain": [
       "1"
      ]
     },
     "execution_count": 25,
     "metadata": {},
     "output_type": "execute_result"
    }
   ],
   "source": [
    "next(l)"
   ]
  },
  {
   "cell_type": "code",
   "execution_count": 26,
   "id": "9a8a5c15",
   "metadata": {},
   "outputs": [
    {
     "data": {
      "text/plain": [
       "1"
      ]
     },
     "execution_count": 26,
     "metadata": {},
     "output_type": "execute_result"
    }
   ],
   "source": [
    "next(l)"
   ]
  },
  {
   "cell_type": "code",
   "execution_count": 27,
   "id": "a0360a10",
   "metadata": {},
   "outputs": [
    {
     "data": {
      "text/plain": [
       "1"
      ]
     },
     "execution_count": 27,
     "metadata": {},
     "output_type": "execute_result"
    }
   ],
   "source": [
    "next(l)"
   ]
  },
  {
   "cell_type": "code",
   "execution_count": 28,
   "id": "4cf25dcf",
   "metadata": {},
   "outputs": [
    {
     "data": {
      "text/plain": [
       "1"
      ]
     },
     "execution_count": 28,
     "metadata": {},
     "output_type": "execute_result"
    }
   ],
   "source": [
    "next(l)"
   ]
  },
  {
   "cell_type": "code",
   "execution_count": 29,
   "id": "2a1041e4",
   "metadata": {},
   "outputs": [
    {
     "data": {
      "text/plain": [
       "2"
      ]
     },
     "execution_count": 29,
     "metadata": {},
     "output_type": "execute_result"
    }
   ],
   "source": [
    "next(l)"
   ]
  },
  {
   "cell_type": "code",
   "execution_count": 30,
   "id": "20731740",
   "metadata": {},
   "outputs": [
    {
     "ename": "StopIteration",
     "evalue": "",
     "output_type": "error",
     "traceback": [
      "\u001b[1;31m---------------------------------------------------------------------------\u001b[0m",
      "\u001b[1;31mStopIteration\u001b[0m                             Traceback (most recent call last)",
      "\u001b[1;32mC:\\Users\\HEMRAJ~1\\AppData\\Local\\Temp/ipykernel_23608/2016234150.py\u001b[0m in \u001b[0;36m<module>\u001b[1;34m\u001b[0m\n\u001b[1;32m----> 1\u001b[1;33m \u001b[0mnext\u001b[0m\u001b[1;33m(\u001b[0m\u001b[0ml\u001b[0m\u001b[1;33m)\u001b[0m\u001b[1;33m\u001b[0m\u001b[1;33m\u001b[0m\u001b[0m\n\u001b[0m",
      "\u001b[1;31mStopIteration\u001b[0m: "
     ]
    }
   ],
   "source": [
    "next(l)"
   ]
  },
  {
   "cell_type": "code",
   "execution_count": 58,
   "id": "06fec498",
   "metadata": {},
   "outputs": [
    {
     "name": "stdout",
     "output_type": "stream",
     "text": [
      "123\n",
      "13\n",
      "123\n",
      "13\n",
      "13\n",
      "423\n",
      "4\n",
      "234\n"
     ]
    }
   ],
   "source": [
    "k = [123,13,123,13,13,423,4,234]\n",
    "lengthL = len(k)\n",
    "k = iter(k)\n",
    "count = 0\n",
    "while count < lengthL:\n",
    "    print(next(k))\n",
    "    count = count + 1"
   ]
  },
  {
   "cell_type": "code",
   "execution_count": 42,
   "id": "393f633b",
   "metadata": {},
   "outputs": [],
   "source": [
    "t = (3,234,234,234,234,13)"
   ]
  },
  {
   "cell_type": "code",
   "execution_count": 43,
   "id": "870403fa",
   "metadata": {},
   "outputs": [
    {
     "ename": "TypeError",
     "evalue": "'tuple' object is not an iterator",
     "output_type": "error",
     "traceback": [
      "\u001b[1;31m---------------------------------------------------------------------------\u001b[0m",
      "\u001b[1;31mTypeError\u001b[0m                                 Traceback (most recent call last)",
      "\u001b[1;32mC:\\Users\\HEMRAJ~1\\AppData\\Local\\Temp/ipykernel_23608/2139502855.py\u001b[0m in \u001b[0;36m<module>\u001b[1;34m\u001b[0m\n\u001b[1;32m----> 1\u001b[1;33m \u001b[0mnext\u001b[0m\u001b[1;33m(\u001b[0m\u001b[0mt\u001b[0m\u001b[1;33m)\u001b[0m\u001b[1;33m\u001b[0m\u001b[1;33m\u001b[0m\u001b[0m\n\u001b[0m",
      "\u001b[1;31mTypeError\u001b[0m: 'tuple' object is not an iterator"
     ]
    }
   ],
   "source": [
    "next(t)"
   ]
  },
  {
   "cell_type": "code",
   "execution_count": 44,
   "id": "f0f5fe4b",
   "metadata": {},
   "outputs": [],
   "source": [
    "t = iter(t)"
   ]
  },
  {
   "cell_type": "code",
   "execution_count": 45,
   "id": "8fa3394a",
   "metadata": {},
   "outputs": [
    {
     "data": {
      "text/plain": [
       "3"
      ]
     },
     "execution_count": 45,
     "metadata": {},
     "output_type": "execute_result"
    }
   ],
   "source": [
    "next(t)"
   ]
  },
  {
   "cell_type": "code",
   "execution_count": 46,
   "id": "595d0d5e",
   "metadata": {},
   "outputs": [
    {
     "data": {
      "text/plain": [
       "234"
      ]
     },
     "execution_count": 46,
     "metadata": {},
     "output_type": "execute_result"
    }
   ],
   "source": [
    "next(t)"
   ]
  },
  {
   "cell_type": "code",
   "execution_count": 47,
   "id": "84eba19b",
   "metadata": {},
   "outputs": [
    {
     "data": {
      "text/plain": [
       "234"
      ]
     },
     "execution_count": 47,
     "metadata": {},
     "output_type": "execute_result"
    }
   ],
   "source": [
    "next(t)"
   ]
  },
  {
   "cell_type": "code",
   "execution_count": 48,
   "id": "221d06f7",
   "metadata": {},
   "outputs": [],
   "source": [
    "r = range(5)"
   ]
  },
  {
   "cell_type": "code",
   "execution_count": 49,
   "id": "f16729eb",
   "metadata": {},
   "outputs": [
    {
     "ename": "TypeError",
     "evalue": "'range' object is not an iterator",
     "output_type": "error",
     "traceback": [
      "\u001b[1;31m---------------------------------------------------------------------------\u001b[0m",
      "\u001b[1;31mTypeError\u001b[0m                                 Traceback (most recent call last)",
      "\u001b[1;32mC:\\Users\\HEMRAJ~1\\AppData\\Local\\Temp/ipykernel_23608/4134984757.py\u001b[0m in \u001b[0;36m<module>\u001b[1;34m\u001b[0m\n\u001b[1;32m----> 1\u001b[1;33m \u001b[0mnext\u001b[0m\u001b[1;33m(\u001b[0m\u001b[0mr\u001b[0m\u001b[1;33m)\u001b[0m\u001b[1;33m\u001b[0m\u001b[1;33m\u001b[0m\u001b[0m\n\u001b[0m",
      "\u001b[1;31mTypeError\u001b[0m: 'range' object is not an iterator"
     ]
    }
   ],
   "source": [
    "next(r)"
   ]
  },
  {
   "cell_type": "code",
   "execution_count": 50,
   "id": "6b63a055",
   "metadata": {},
   "outputs": [],
   "source": [
    "t = iter(r)"
   ]
  },
  {
   "cell_type": "code",
   "execution_count": 51,
   "id": "35a14f35",
   "metadata": {},
   "outputs": [
    {
     "data": {
      "text/plain": [
       "0"
      ]
     },
     "execution_count": 51,
     "metadata": {},
     "output_type": "execute_result"
    }
   ],
   "source": [
    "next(t)"
   ]
  },
  {
   "cell_type": "code",
   "execution_count": 52,
   "id": "589f3f93",
   "metadata": {},
   "outputs": [
    {
     "data": {
      "text/plain": [
       "1"
      ]
     },
     "execution_count": 52,
     "metadata": {},
     "output_type": "execute_result"
    }
   ],
   "source": [
    "next(t)"
   ]
  },
  {
   "cell_type": "code",
   "execution_count": 53,
   "id": "81780bc7",
   "metadata": {},
   "outputs": [
    {
     "data": {
      "text/plain": [
       "2"
      ]
     },
     "execution_count": 53,
     "metadata": {},
     "output_type": "execute_result"
    }
   ],
   "source": [
    "next(t)"
   ]
  },
  {
   "cell_type": "code",
   "execution_count": 54,
   "id": "bae9a220",
   "metadata": {},
   "outputs": [
    {
     "data": {
      "text/plain": [
       "3"
      ]
     },
     "execution_count": 54,
     "metadata": {},
     "output_type": "execute_result"
    }
   ],
   "source": [
    "next(t)"
   ]
  },
  {
   "cell_type": "code",
   "execution_count": null,
   "id": "1db2c3c9",
   "metadata": {},
   "outputs": [],
   "source": []
  },
  {
   "cell_type": "markdown",
   "id": "e1e9eac0",
   "metadata": {},
   "source": [
    "## Generator"
   ]
  },
  {
   "cell_type": "code",
   "execution_count": 66,
   "id": "1820a10a",
   "metadata": {},
   "outputs": [],
   "source": [
    "def gencude(n):\n",
    "    l = []\n",
    "    for i in range(n):\n",
    "        l.append(i**3) \n",
    "    return(l)\n"
   ]
  },
  {
   "cell_type": "code",
   "execution_count": 67,
   "id": "e4344495",
   "metadata": {},
   "outputs": [
    {
     "data": {
      "text/plain": [
       "[0, 1, 8, 27, 64, 125]"
      ]
     },
     "execution_count": 67,
     "metadata": {},
     "output_type": "execute_result"
    }
   ],
   "source": [
    "gencude(6)"
   ]
  },
  {
   "cell_type": "code",
   "execution_count": 69,
   "id": "23e758e0",
   "metadata": {},
   "outputs": [],
   "source": [
    "#for i in range(1000000000):\n",
    "#    print(i)"
   ]
  },
  {
   "cell_type": "code",
   "execution_count": 70,
   "id": "575764dc",
   "metadata": {},
   "outputs": [],
   "source": [
    "def gencude1(n):\n",
    "    for i in range(n):\n",
    "        yield i**3"
   ]
  },
  {
   "cell_type": "code",
   "execution_count": 71,
   "id": "0484f9a0",
   "metadata": {},
   "outputs": [
    {
     "data": {
      "text/plain": [
       "<generator object gencude1 at 0x000001FB37A95EB0>"
      ]
     },
     "execution_count": 71,
     "metadata": {},
     "output_type": "execute_result"
    }
   ],
   "source": [
    "gencude1(9)"
   ]
  },
  {
   "cell_type": "code",
   "execution_count": null,
   "id": "41541519",
   "metadata": {},
   "outputs": [],
   "source": [
    "#for i in gencude1(1000):\n",
    "#    print(i)"
   ]
  },
  {
   "cell_type": "code",
   "execution_count": null,
   "id": "33199ed4",
   "metadata": {},
   "outputs": [],
   "source": [
    "##  fibonacci series"
   ]
  }
 ],
 "metadata": {
  "kernelspec": {
   "display_name": "Python 3 (ipykernel)",
   "language": "python",
   "name": "python3"
  },
  "language_info": {
   "codemirror_mode": {
    "name": "ipython",
    "version": 3
   },
   "file_extension": ".py",
   "mimetype": "text/x-python",
   "name": "python",
   "nbconvert_exporter": "python",
   "pygments_lexer": "ipython3",
   "version": "3.9.7"
  }
 },
 "nbformat": 4,
 "nbformat_minor": 5
}
