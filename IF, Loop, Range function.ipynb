{
 "cells": [
  {
   "cell_type": "code",
   "execution_count": 4,
   "id": "21912528",
   "metadata": {},
   "outputs": [
    {
     "name": "stdout",
     "output_type": "stream",
     "text": [
      "in else code\n"
     ]
    }
   ],
   "source": [
    "if 10 < 3:\n",
    "    print(\"hello\")\n",
    "else:\n",
    "    print(\"in else code\")"
   ]
  },
  {
   "cell_type": "code",
   "execution_count": 7,
   "id": "1907354d",
   "metadata": {},
   "outputs": [
    {
     "name": "stdout",
     "output_type": "stream",
     "text": [
      "1000\n",
      "your discout will be 500.0\n"
     ]
    }
   ],
   "source": [
    "total_price = int(input(\"\"));\n",
    "if total_price > 20000:\n",
    "    discount = total_price*(.20)\n",
    "    print(\"your discout will be\",discount)\n",
    "elif total_price <= 20000:\n",
    "    discount = total_price*(.50)\n",
    "    print(\"your discout will be\",discount)\n"
   ]
  },
  {
   "cell_type": "code",
   "execution_count": 9,
   "id": "529e3eaa",
   "metadata": {},
   "outputs": [
    {
     "name": "stdout",
     "output_type": "stream",
     "text": [
      "3\n",
      "it may take 6 month to make transition\n"
     ]
    }
   ],
   "source": [
    "study_hour = int(input())\n",
    "if study_hour < 1:\n",
    "    print(\"it may take 8-9 month of time to make transition\")\n",
    "elif study_hour < 4 and study_hour >1:\n",
    "    print(\"it may take 6 month to make transition\")\n",
    "elif study_hour > 10:\n",
    "    print(\"it may take 3 month to make transition\")\n",
    "else:\n",
    "    print(\"it will be difficult\")\n",
    "    "
   ]
  },
  {
   "cell_type": "code",
   "execution_count": null,
   "id": "a8c9fdb8",
   "metadata": {},
   "outputs": [],
   "source": []
  },
  {
   "cell_type": "code",
   "execution_count": null,
   "id": "9a9ef7be",
   "metadata": {},
   "outputs": [],
   "source": []
  },
  {
   "cell_type": "code",
   "execution_count": 1,
   "id": "1b261e07",
   "metadata": {},
   "outputs": [
    {
     "name": "stdout",
     "output_type": "stream",
     "text": [
      "h\n",
      "e\n",
      "m\n",
      "r\n",
      "a\n",
      "j\n"
     ]
    }
   ],
   "source": [
    "s = \"hemraj\"\n",
    "for item in s:\n",
    "    print(item)"
   ]
  },
  {
   "cell_type": "code",
   "execution_count": 4,
   "id": "e199effa",
   "metadata": {},
   "outputs": [
    {
     "name": "stdout",
     "output_type": "stream",
     "text": [
      "<class 'int'> type of i 1\n",
      "<class 'int'> type of i 3\n",
      "<class 'int'> type of i 4\n",
      "<class 'int'> type of i 5\n",
      "<class 'complex'> type of i (6+9j)\n",
      "<class 'float'> type of i 4.5\n",
      "<class 'str'> type of i hemraj\n"
     ]
    }
   ],
   "source": [
    "l = [1,3,4,5,6+9j,4.5,\"hemraj\"]\n",
    "for item in l:\n",
    "    print(type(item),\"type of i\", item)"
   ]
  },
  {
   "cell_type": "code",
   "execution_count": 5,
   "id": "3bfbd864",
   "metadata": {},
   "outputs": [
    {
     "name": "stdout",
     "output_type": "stream",
     "text": [
      "[2, 4, 6, 10, 112, 12]\n"
     ]
    }
   ],
   "source": [
    "i = [1,2,3,5,56,6]\n",
    "j = [];\n",
    "for item in i:\n",
    "    j.append(item*2);\n",
    "print(j)"
   ]
  },
  {
   "cell_type": "code",
   "execution_count": 8,
   "id": "dc86ee60",
   "metadata": {},
   "outputs": [
    {
     "name": "stdout",
     "output_type": "stream",
     "text": [
      "[1, 2, 3, 4, 5, 6]\n"
     ]
    }
   ],
   "source": [
    "l = [1,2,3,4,5,6,6+2j,[3,4,5,5,4,3,3]]\n",
    "j = [];\n",
    "for item in l:\n",
    "    if type(item) == int:\n",
    "        j.append(item)\n",
    "\n",
    "print(j)\n",
    "    "
   ]
  },
  {
   "cell_type": "code",
   "execution_count": 27,
   "id": "6c1f8823",
   "metadata": {},
   "outputs": [
    {
     "name": "stdout",
     "output_type": "stream",
     "text": [
      "0\n",
      "1\n",
      "2\n",
      "3\n",
      "4\n",
      "5\n",
      "6\n",
      "7\n",
      "8\n",
      "9\n",
      "===========================\n",
      "h\n",
      "e\n",
      "m\n",
      "r\n",
      "a\n",
      "j\n",
      "==============================\n",
      "[4, 4, 9, 16, 9, 36, 36]\n"
     ]
    }
   ],
   "source": [
    "l = [2,2,3,4,3,6,\"hemraj\",6,4+6j,[4,5,3,7,4,87]];\n",
    "j = [];\n",
    "for index,item in enumerate(l):\n",
    "    print(index)\n",
    "print(\"===========================\")    \n",
    "for item in l:\n",
    "    #print(\"=======================\")\n",
    "    if type(item) == str:\n",
    "        for item1 in item:\n",
    "            print(item1)\n",
    "print(\"==============================\")            \n",
    "for item in l:\n",
    "    #print(\"=======================\")\n",
    "    if type(item) == int:\n",
    "        j.append(item**2)        \n",
    "\n",
    "print(j)\n"
   ]
  },
  {
   "cell_type": "code",
   "execution_count": 29,
   "id": "bedf5c84",
   "metadata": {},
   "outputs": [
    {
     "name": "stdout",
     "output_type": "stream",
     "text": [
      "h\n",
      "e\n",
      "m\n",
      "r\n",
      "a\n",
      "j\n"
     ]
    }
   ],
   "source": [
    "s = \"hemraj\"\n",
    "for item in s:\n",
    "    print(item)"
   ]
  },
  {
   "cell_type": "code",
   "execution_count": 39,
   "id": "4eff1ad2",
   "metadata": {},
   "outputs": [
    {
     "name": "stdout",
     "output_type": "stream",
     "text": [
      "<class 'str'> h\n",
      "<class 'str'> e\n",
      "<class 'str'> m\n",
      "<class 'str'> r\n",
      "<class 'str'> a\n"
     ]
    }
   ],
   "source": [
    "for item in s:\n",
    "    print(type(item), item)\n",
    "    if item == 'a':\n",
    "        break\n",
    "else: \n",
    "    print(\"if for loop is completed by itself without having any error or intruption, then else will excuted\")"
   ]
  },
  {
   "cell_type": "code",
   "execution_count": null,
   "id": "5183f1c7",
   "metadata": {},
   "outputs": [],
   "source": []
  },
  {
   "cell_type": "code",
   "execution_count": null,
   "id": "8ce93218",
   "metadata": {},
   "outputs": [],
   "source": []
  },
  {
   "cell_type": "code",
   "execution_count": null,
   "id": "79ec44cf",
   "metadata": {},
   "outputs": [],
   "source": []
  },
  {
   "cell_type": "markdown",
   "id": "fabd73a5",
   "metadata": {},
   "source": [
    "#While LOOP"
   ]
  },
  {
   "cell_type": "code",
   "execution_count": 40,
   "id": "cb6de8b7",
   "metadata": {},
   "outputs": [
    {
     "name": "stdout",
     "output_type": "stream",
     "text": [
      "2\n",
      "3\n",
      "4\n",
      "5\n"
     ]
    }
   ],
   "source": [
    "a = 1\n",
    "while a < 5:\n",
    "    a = a +1;\n",
    "    print(a)"
   ]
  },
  {
   "cell_type": "code",
   "execution_count": 45,
   "id": "31acc2f6",
   "metadata": {},
   "outputs": [
    {
     "name": "stdout",
     "output_type": "stream",
     "text": [
      "1\n",
      "2\n",
      "3\n",
      "4\n"
     ]
    }
   ],
   "source": [
    "a = 1\n",
    "while a < 5:\n",
    "    print(a);\n",
    "    a = a+1;\n",
    "    if a == 3:\n",
    "        continue\n",
    "    \n",
    "\n",
    "    "
   ]
  },
  {
   "cell_type": "code",
   "execution_count": 50,
   "id": "736a7f1f",
   "metadata": {},
   "outputs": [
    {
     "ename": "KeyboardInterrupt",
     "evalue": "",
     "output_type": "error",
     "traceback": [
      "\u001b[1;31m---------------------------------------------------------------------------\u001b[0m",
      "\u001b[1;31mKeyboardInterrupt\u001b[0m                         Traceback (most recent call last)",
      "\u001b[1;32mC:\\Users\\HEMRAJ~1\\AppData\\Local\\Temp/ipykernel_26960/1177256434.py\u001b[0m in \u001b[0;36m<module>\u001b[1;34m\u001b[0m\n\u001b[0;32m      1\u001b[0m \u001b[0ma\u001b[0m \u001b[1;33m=\u001b[0m\u001b[1;36m1\u001b[0m\u001b[1;33m\u001b[0m\u001b[1;33m\u001b[0m\u001b[0m\n\u001b[1;32m----> 2\u001b[1;33m \u001b[1;32mwhile\u001b[0m \u001b[0ma\u001b[0m \u001b[1;33m<\u001b[0m \u001b[1;36m5\u001b[0m\u001b[1;33m:\u001b[0m\u001b[1;33m\u001b[0m\u001b[1;33m\u001b[0m\u001b[0m\n\u001b[0m\u001b[0;32m      3\u001b[0m     \u001b[1;32mpass\u001b[0m\u001b[1;33m\u001b[0m\u001b[1;33m\u001b[0m\u001b[0m\n",
      "\u001b[1;31mKeyboardInterrupt\u001b[0m: "
     ]
    }
   ],
   "source": [
    "# a =1\n",
    "# while a < 5:\n",
    "#     pass"
   ]
  },
  {
   "cell_type": "code",
   "execution_count": 54,
   "id": "f840baf1",
   "metadata": {},
   "outputs": [
    {
     "name": "stdout",
     "output_type": "stream",
     "text": [
      "[0, 1, 2, 3, 4, 5]\n",
      "0\n",
      "1\n",
      "2\n",
      "3\n",
      "4\n",
      "5\n"
     ]
    }
   ],
   "source": [
    "\n",
    "print(list(range(6)))\n",
    "for i in list(range(6)):\n",
    "    print(i)"
   ]
  },
  {
   "cell_type": "code",
   "execution_count": 55,
   "id": "f61f4e83",
   "metadata": {},
   "outputs": [
    {
     "data": {
      "text/plain": [
       "[4,\n",
       " 5,\n",
       " 6,\n",
       " 7,\n",
       " 8,\n",
       " 9,\n",
       " 10,\n",
       " 11,\n",
       " 12,\n",
       " 13,\n",
       " 14,\n",
       " 15,\n",
       " 16,\n",
       " 17,\n",
       " 18,\n",
       " 19,\n",
       " 20,\n",
       " 21,\n",
       " 22,\n",
       " 23,\n",
       " 24,\n",
       " 25,\n",
       " 26,\n",
       " 27,\n",
       " 28,\n",
       " 29,\n",
       " 30,\n",
       " 31,\n",
       " 32,\n",
       " 33,\n",
       " 34,\n",
       " 35,\n",
       " 36,\n",
       " 37,\n",
       " 38,\n",
       " 39,\n",
       " 40,\n",
       " 41,\n",
       " 42,\n",
       " 43,\n",
       " 44,\n",
       " 45,\n",
       " 46,\n",
       " 47,\n",
       " 48,\n",
       " 49,\n",
       " 50,\n",
       " 51,\n",
       " 52,\n",
       " 53,\n",
       " 54,\n",
       " 55,\n",
       " 56,\n",
       " 57,\n",
       " 58,\n",
       " 59,\n",
       " 60,\n",
       " 61,\n",
       " 62,\n",
       " 63,\n",
       " 64,\n",
       " 65,\n",
       " 66,\n",
       " 67,\n",
       " 68,\n",
       " 69,\n",
       " 70,\n",
       " 71,\n",
       " 72,\n",
       " 73,\n",
       " 74,\n",
       " 75,\n",
       " 76,\n",
       " 77,\n",
       " 78,\n",
       " 79,\n",
       " 80,\n",
       " 81,\n",
       " 82,\n",
       " 83,\n",
       " 84,\n",
       " 85,\n",
       " 86,\n",
       " 87,\n",
       " 88,\n",
       " 89,\n",
       " 90,\n",
       " 91,\n",
       " 92,\n",
       " 93,\n",
       " 94,\n",
       " 95,\n",
       " 96,\n",
       " 97,\n",
       " 98,\n",
       " 99]"
      ]
     },
     "execution_count": 55,
     "metadata": {},
     "output_type": "execute_result"
    }
   ],
   "source": [
    "list(range(4,100))"
   ]
  },
  {
   "cell_type": "code",
   "execution_count": 56,
   "id": "29cc0e0d",
   "metadata": {},
   "outputs": [
    {
     "data": {
      "text/plain": [
       "[4,\n",
       " 6,\n",
       " 8,\n",
       " 10,\n",
       " 12,\n",
       " 14,\n",
       " 16,\n",
       " 18,\n",
       " 20,\n",
       " 22,\n",
       " 24,\n",
       " 26,\n",
       " 28,\n",
       " 30,\n",
       " 32,\n",
       " 34,\n",
       " 36,\n",
       " 38,\n",
       " 40,\n",
       " 42,\n",
       " 44,\n",
       " 46,\n",
       " 48]"
      ]
     },
     "execution_count": 56,
     "metadata": {},
     "output_type": "execute_result"
    }
   ],
   "source": [
    "list(range(4,50,2))"
   ]
  },
  {
   "cell_type": "code",
   "execution_count": 57,
   "id": "ed672772",
   "metadata": {},
   "outputs": [
    {
     "data": {
      "text/plain": [
       "[]"
      ]
     },
     "execution_count": 57,
     "metadata": {},
     "output_type": "execute_result"
    }
   ],
   "source": [
    "list(range(3,10,-1))"
   ]
  },
  {
   "cell_type": "code",
   "execution_count": 60,
   "id": "b44428b7",
   "metadata": {},
   "outputs": [
    {
     "data": {
      "text/plain": [
       "[10, 9, 8, 7]"
      ]
     },
     "execution_count": 60,
     "metadata": {},
     "output_type": "execute_result"
    }
   ],
   "source": [
    "list(range(10,6,-1))"
   ]
  },
  {
   "cell_type": "code",
   "execution_count": 62,
   "id": "b566a046",
   "metadata": {},
   "outputs": [
    {
     "data": {
      "text/plain": [
       "[10, 8, 6, 4, 2, 0, -2, -4]"
      ]
     },
     "execution_count": 62,
     "metadata": {},
     "output_type": "execute_result"
    }
   ],
   "source": [
    "list(range(10,-5,-2))"
   ]
  },
  {
   "cell_type": "code",
   "execution_count": 75,
   "id": "ba2397d8",
   "metadata": {},
   "outputs": [
    {
     "name": "stdout",
     "output_type": "stream",
     "text": [
      "*\r\n",
      "**\r\n",
      "***\r\n",
      "****\r\n",
      "*****\r\n",
      "******\r\n"
     ]
    }
   ],
   "source": [
    "for i in range(1,7):\n",
    "    #print(i)\n",
    "    for j in range(i):\n",
    "        print(\"*\",end=\"\")\n",
    "    print(\"\\r\")"
   ]
  },
  {
   "cell_type": "code",
   "execution_count": 77,
   "id": "975a54c1",
   "metadata": {},
   "outputs": [
    {
     "name": "stdout",
     "output_type": "stream",
     "text": [
      "1\n",
      "2\n",
      "4\n",
      "5\n",
      "2\n",
      "6\n",
      "6\n"
     ]
    }
   ],
   "source": [
    "for item in (1,2,4,5,2,6,6):\n",
    "    print(item)"
   ]
  },
  {
   "cell_type": "code",
   "execution_count": 86,
   "id": "864926d4",
   "metadata": {},
   "outputs": [
    {
     "name": "stdout",
     "output_type": "stream",
     "text": [
      "45\n",
      "6\n",
      "2\n",
      "5\n",
      "4\n",
      "2\n",
      "1\n"
     ]
    }
   ],
   "source": [
    "t = (1,2,4,5,2,6,45)\n",
    "for item in range(len(t)-1,-1,-1):\n",
    "    print(t[item])"
   ]
  },
  {
   "cell_type": "code",
   "execution_count": 88,
   "id": "1a015a38",
   "metadata": {},
   "outputs": [
    {
     "name": "stdout",
     "output_type": "stream",
     "text": [
      "a hemraj\n",
      "b asdfg\n",
      "c [1, 2, 3, 4, 5]\n"
     ]
    }
   ],
   "source": [
    "d = {\"a\":\"hemraj\",\"b\":\"asdfg\",\"c\":[1,2,3,4,5]}\n",
    "for item in d:\n",
    "    print(item, d[item])"
   ]
  },
  {
   "cell_type": "code",
   "execution_count": 89,
   "id": "723c0816",
   "metadata": {},
   "outputs": [
    {
     "name": "stdout",
     "output_type": "stream",
     "text": [
      "('a', 'hemraj')\n",
      "('b', 'asdfg')\n",
      "('c', [1, 2, 3, 4, 5])\n"
     ]
    }
   ],
   "source": [
    "for item in d.items():\n",
    "    print(item)"
   ]
  },
  {
   "cell_type": "code",
   "execution_count": 93,
   "id": "72dfaad9",
   "metadata": {},
   "outputs": [
    {
     "name": "stdout",
     "output_type": "stream",
     "text": [
      "65\n",
      "2\n",
      "3\n",
      "4\n",
      "5\n",
      "6\n",
      "7\n",
      "44\n"
     ]
    }
   ],
   "source": [
    "s = {2,3,3,5,5,6,65,65,44,6,7,3,2,4,6,7,}\n",
    "for i in s:\n",
    "    print(i)"
   ]
  },
  {
   "cell_type": "code",
   "execution_count": null,
   "id": "f87018d7",
   "metadata": {},
   "outputs": [],
   "source": []
  },
  {
   "cell_type": "code",
   "execution_count": null,
   "id": "0170bc03",
   "metadata": {},
   "outputs": [],
   "source": []
  }
 ],
 "metadata": {
  "kernelspec": {
   "display_name": "Python 3 (ipykernel)",
   "language": "python",
   "name": "python3"
  },
  "language_info": {
   "codemirror_mode": {
    "name": "ipython",
    "version": 3
   },
   "file_extension": ".py",
   "mimetype": "text/x-python",
   "name": "python",
   "nbconvert_exporter": "python",
   "pygments_lexer": "ipython3",
   "version": "3.9.7"
  }
 },
 "nbformat": 4,
 "nbformat_minor": 5
}
